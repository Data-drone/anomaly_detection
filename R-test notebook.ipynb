{
 "cells": [
  {
   "cell_type": "markdown",
   "metadata": {},
   "source": [
    "# Testing with R"
   ]
  },
  {
   "cell_type": "code",
   "execution_count": 1,
   "metadata": {
    "scrolled": false
   },
   "outputs": [
    {
     "name": "stderr",
     "output_type": "stream",
     "text": [
      "Installing package into ‘/usr/local/spark-3.0.1-bin-hadoop3.2/R/lib’\n",
      "(as ‘lib’ is unspecified)\n",
      "\n"
     ]
    }
   ],
   "source": [
    "install.packages(\"sparklyr\")"
   ]
  },
  {
   "cell_type": "code",
   "execution_count": 2,
   "metadata": {},
   "outputs": [
    {
     "name": "stderr",
     "output_type": "stream",
     "text": [
      "Installing package into ‘/usr/local/spark-3.0.1-bin-hadoop3.2/R/lib’\n",
      "(as ‘lib’ is unspecified)\n",
      "\n"
     ]
    }
   ],
   "source": [
    "install.packages(\"tidyverse\")"
   ]
  },
  {
   "cell_type": "code",
   "execution_count": 3,
   "metadata": {},
   "outputs": [
    {
     "name": "stderr",
     "output_type": "stream",
     "text": [
      "Installing package into ‘/usr/local/spark-3.0.1-bin-hadoop3.2/R/lib’\n",
      "(as ‘lib’ is unspecified)\n",
      "\n"
     ]
    }
   ],
   "source": [
    "install.packages(\"nycflights13\")"
   ]
  },
  {
   "cell_type": "markdown",
   "metadata": {},
   "source": [
    "### Import Libraries"
   ]
  },
  {
   "cell_type": "code",
   "execution_count": 4,
   "metadata": {},
   "outputs": [
    {
     "name": "stderr",
     "output_type": "stream",
     "text": [
      "── \u001b[1mAttaching packages\u001b[22m ─────────────────────────────────────── tidyverse 1.3.0 ──\n",
      "\n",
      "\u001b[32m✔\u001b[39m \u001b[34mggplot2\u001b[39m 3.3.2     \u001b[32m✔\u001b[39m \u001b[34mpurrr  \u001b[39m 0.3.4\n",
      "\u001b[32m✔\u001b[39m \u001b[34mtibble \u001b[39m 3.0.4     \u001b[32m✔\u001b[39m \u001b[34mdplyr  \u001b[39m 1.0.2\n",
      "\u001b[32m✔\u001b[39m \u001b[34mtidyr  \u001b[39m 1.1.2     \u001b[32m✔\u001b[39m \u001b[34mstringr\u001b[39m 1.4.0\n",
      "\u001b[32m✔\u001b[39m \u001b[34mreadr  \u001b[39m 1.4.0     \u001b[32m✔\u001b[39m \u001b[34mforcats\u001b[39m 0.5.0\n",
      "\n",
      "── \u001b[1mConflicts\u001b[22m ────────────────────────────────────────── tidyverse_conflicts() ──\n",
      "\u001b[31m✖\u001b[39m \u001b[34mdplyr\u001b[39m::\u001b[32mfilter()\u001b[39m masks \u001b[34mstats\u001b[39m::filter()\n",
      "\u001b[31m✖\u001b[39m \u001b[34mpurrr\u001b[39m::\u001b[32minvoke()\u001b[39m masks \u001b[34msparklyr\u001b[39m::invoke()\n",
      "\u001b[31m✖\u001b[39m \u001b[34mdplyr\u001b[39m::\u001b[32mlag()\u001b[39m    masks \u001b[34mstats\u001b[39m::lag()\n",
      "\n"
     ]
    }
   ],
   "source": [
    "library(sparklyr)\n",
    "library(tidyverse)"
   ]
  },
  {
   "cell_type": "code",
   "execution_count": 5,
   "metadata": {},
   "outputs": [],
   "source": [
    "conf <- spark_config()"
   ]
  },
  {
   "cell_type": "code",
   "execution_count": 6,
   "metadata": {},
   "outputs": [],
   "source": [
    "conf$`sparklyr.cores.local` <- 6\n",
    "conf$`sparklyr.shell.driver-memory` <- \"12G\""
   ]
  },
  {
   "cell_type": "code",
   "execution_count": 7,
   "metadata": {},
   "outputs": [],
   "source": [
    "sc <- spark_connect(master = \"local\", config = conf)"
   ]
  },
  {
   "cell_type": "markdown",
   "metadata": {},
   "source": [
    "### Load Parquet Frames"
   ]
  },
  {
   "cell_type": "code",
   "execution_count": 8,
   "metadata": {
    "scrolled": true
   },
   "outputs": [
    {
     "data": {
      "text/html": [
       "'data/s3_parquet_logs.c000'"
      ],
      "text/latex": [
       "'data/s3\\_parquet\\_logs.c000'"
      ],
      "text/markdown": [
       "'data/s3_parquet_logs.c000'"
      ],
      "text/plain": [
       "[1] \"data/s3_parquet_logs.c000\""
      ]
     },
     "metadata": {},
     "output_type": "display_data"
    }
   ],
   "source": [
    "system(\"ls data/*\", intern=TRUE)"
   ]
  },
  {
   "cell_type": "code",
   "execution_count": 9,
   "metadata": {
    "scrolled": true
   },
   "outputs": [],
   "source": [
    "txt <- spark_read_parquet(sc, \"logdata\", \"data/*\")"
   ]
  },
  {
   "cell_type": "markdown",
   "metadata": {},
   "source": [
    "### Build UDFs"
   ]
  },
  {
   "cell_type": "code",
   "execution_count": 10,
   "metadata": {},
   "outputs": [
    {
     "data": {
      "text/html": [
       "'words'"
      ],
      "text/latex": [
       "'words'"
      ],
      "text/markdown": [
       "'words'"
      ],
      "text/plain": [
       "[1] \"words\""
      ]
     },
     "metadata": {},
     "output_type": "display_data"
    }
   ],
   "source": [
    "test <- \"there/are/a/lot/of/words\"\n",
    "dplyr::last(str_split(test, '/', simplify=TRUE))"
   ]
  },
  {
   "cell_type": "code",
   "execution_count": 11,
   "metadata": {},
   "outputs": [],
   "source": [
    "get_object <- function(string) {\n",
    "    splitted <- str_split(string, '/', simplify=TRUE)\n",
    "    s3_object <- dplyr::last(splitted)\n",
    "    return(s3_object)\n",
    "}"
   ]
  },
  {
   "cell_type": "code",
   "execution_count": 12,
   "metadata": {},
   "outputs": [
    {
     "data": {
      "text/html": [
       "'words'"
      ],
      "text/latex": [
       "'words'"
      ],
      "text/markdown": [
       "'words'"
      ],
      "text/plain": [
       "[1] \"words\""
      ]
     },
     "metadata": {},
     "output_type": "display_data"
    }
   ],
   "source": [
    "get_object(test)"
   ]
  },
  {
   "cell_type": "code",
   "execution_count": 13,
   "metadata": {},
   "outputs": [
    {
     "data": {
      "text/html": [
       "'there/are/a/lot/of'"
      ],
      "text/latex": [
       "'there/are/a/lot/of'"
      ],
      "text/markdown": [
       "'there/are/a/lot/of'"
      ],
      "text/plain": [
       "[1] \"there/are/a/lot/of\""
      ]
     },
     "metadata": {},
     "output_type": "display_data"
    }
   ],
   "source": [
    "splitted <- str_split(test, '/', simplify=TRUE)\n",
    "paste(splitted[,-ncol(splitted)], collapse=\"/\")"
   ]
  },
  {
   "cell_type": "code",
   "execution_count": 14,
   "metadata": {},
   "outputs": [],
   "source": [
    "get_prefix <- function(string) {\n",
    "    \n",
    "    splitted <- stringr::str_split(string, '/', simplify=TRUE)\n",
    "    all_but_last <- splitted[,-ncol(splitted)]\n",
    "    concat <- paste(all_but_last, collapse = \"/\")\n",
    "    return(concat)\n",
    "}"
   ]
  },
  {
   "cell_type": "code",
   "execution_count": 15,
   "metadata": {},
   "outputs": [
    {
     "data": {
      "text/html": [
       "'there/are/a/lot/of'"
      ],
      "text/latex": [
       "'there/are/a/lot/of'"
      ],
      "text/markdown": [
       "'there/are/a/lot/of'"
      ],
      "text/plain": [
       "[1] \"there/are/a/lot/of\""
      ]
     },
     "metadata": {},
     "output_type": "display_data"
    }
   ],
   "source": [
    "get_prefix(test)"
   ]
  },
  {
   "cell_type": "code",
   "execution_count": 39,
   "metadata": {},
   "outputs": [],
   "source": [
    "# new attempt at R function for spark apply\n",
    "split_key <- function(df, colName) {\n",
    "    \n",
    "    splitted <- stringr::str_split(df[[colName]], '/', simplify=TRUE)\n",
    "    all_but_last <- splitted[,-ncol(splitted)]\n",
    "    concat <- paste(all_but_last, collapse = \"/\")\n",
    "    object <- dplyr::last(splitted)\n",
    "    \n",
    "    df %>% mutate(prefix = concat, object = object)\n",
    "}"
   ]
  },
  {
   "cell_type": "markdown",
   "metadata": {},
   "source": [
    "### Process Dataframes"
   ]
  },
  {
   "cell_type": "code",
   "execution_count": 42,
   "metadata": {},
   "outputs": [
    {
     "data": {
      "text/plain": [
       "\u001b[38;5;246m# Source: spark<?> [?? x 28]\u001b[39m\n",
       "   bucketowner bucket requestdatetime remoteip requester requestid operation\n",
       "   \u001b[3m\u001b[38;5;246m<chr>\u001b[39m\u001b[23m       \u001b[3m\u001b[38;5;246m<chr>\u001b[39m\u001b[23m  \u001b[3m\u001b[38;5;246m<chr>\u001b[39m\u001b[23m           \u001b[3m\u001b[38;5;246m<chr>\u001b[39m\u001b[23m    \u001b[3m\u001b[38;5;246m<chr>\u001b[39m\u001b[23m     \u001b[3m\u001b[38;5;246m<chr>\u001b[39m\u001b[23m     \u001b[3m\u001b[38;5;246m<chr>\u001b[39m\u001b[23m    \n",
       "\u001b[38;5;250m 1\u001b[39m 7409ed49be… alpha… 13/Jun/2020:04… 10.121.… arn:aws:… 15F94453… REST.HEA…\n",
       "\u001b[38;5;250m 2\u001b[39m 7409ed49be… alpha… 13/Jun/2020:04… 10.121.… arn:aws:… DC0D21AA… REST.HEA…\n",
       "\u001b[38;5;250m 3\u001b[39m 7409ed49be… alpha… 13/Jun/2020:04… 10.121.… arn:aws:… 637FF3AD… REST.GET…\n",
       "\u001b[38;5;250m 4\u001b[39m 7409ed49be… alpha… 13/Jun/2020:04… 10.121.… arn:aws:… DEC9747E… REST.HEA…\n",
       "\u001b[38;5;250m 5\u001b[39m 7409ed49be… alpha… 13/Jun/2020:04… 10.121.… arn:aws:… A0B7D291… REST.HEA…\n",
       "\u001b[38;5;250m 6\u001b[39m 7409ed49be… alpha… 13/Jun/2020:04… 10.121.… arn:aws:… E916FC6B… REST.HEA…\n",
       "\u001b[38;5;250m 7\u001b[39m 7409ed49be… alpha… 13/Jun/2020:04… 10.121.… arn:aws:… A558C5A8… REST.GET…\n",
       "\u001b[38;5;250m 8\u001b[39m 7409ed49be… alpha… 13/Jun/2020:04… 10.121.… arn:aws:… E9E87B55… REST.GET…\n",
       "\u001b[38;5;250m 9\u001b[39m 7409ed49be… alpha… 13/Jun/2020:04… 10.121.… arn:aws:… 234D569D… REST.HEA…\n",
       "\u001b[38;5;250m10\u001b[39m 7409ed49be… alpha… 13/Jun/2020:04… 10.121.… arn:aws:… EB35C9B6… REST.GET…\n",
       "\u001b[38;5;246m# … with more rows, and 21 more variables: key \u001b[3m\u001b[38;5;246m<chr>\u001b[38;5;246m\u001b[23m, request \u001b[3m\u001b[38;5;246m<chr>\u001b[38;5;246m\u001b[23m,\u001b[39m\n",
       "\u001b[38;5;246m#   httpstatus \u001b[3m\u001b[38;5;246m<chr>\u001b[38;5;246m\u001b[23m, errorcode \u001b[3m\u001b[38;5;246m<chr>\u001b[38;5;246m\u001b[23m, bytessent \u001b[3m\u001b[38;5;246m<int>\u001b[38;5;246m\u001b[23m, objectsize \u001b[3m\u001b[38;5;246m<int>\u001b[38;5;246m\u001b[23m,\u001b[39m\n",
       "\u001b[38;5;246m#   totaltime \u001b[3m\u001b[38;5;246m<int>\u001b[38;5;246m\u001b[23m, turnaroundtime \u001b[3m\u001b[38;5;246m<int>\u001b[38;5;246m\u001b[23m, referrer \u001b[3m\u001b[38;5;246m<chr>\u001b[38;5;246m\u001b[23m, useragent \u001b[3m\u001b[38;5;246m<chr>\u001b[38;5;246m\u001b[23m,\u001b[39m\n",
       "\u001b[38;5;246m#   versionid \u001b[3m\u001b[38;5;246m<chr>\u001b[38;5;246m\u001b[23m, hostid \u001b[3m\u001b[38;5;246m<chr>\u001b[38;5;246m\u001b[23m, sigv \u001b[3m\u001b[38;5;246m<chr>\u001b[38;5;246m\u001b[23m, ciphersuite \u001b[3m\u001b[38;5;246m<chr>\u001b[38;5;246m\u001b[23m,\u001b[39m\n",
       "\u001b[38;5;246m#   authtype \u001b[3m\u001b[38;5;246m<chr>\u001b[38;5;246m\u001b[23m, endpoint \u001b[3m\u001b[38;5;246m<chr>\u001b[38;5;246m\u001b[23m, tlsversion \u001b[3m\u001b[38;5;246m<chr>\u001b[38;5;246m\u001b[23m,\u001b[39m\n",
       "\u001b[38;5;246m#   requesturi_operation \u001b[3m\u001b[38;5;246m<chr>\u001b[38;5;246m\u001b[23m, requesturi_key \u001b[3m\u001b[38;5;246m<chr>\u001b[38;5;246m\u001b[23m,\u001b[39m\n",
       "\u001b[38;5;246m#   requesturi_httpprotoversion \u001b[3m\u001b[38;5;246m<chr>\u001b[38;5;246m\u001b[23m, requesttimestamp \u001b[3m\u001b[38;5;246m<dttm>\u001b[38;5;246m\u001b[23m\u001b[39m"
      ]
     },
     "metadata": {},
     "output_type": "display_data"
    }
   ],
   "source": [
    "txt2 <- txt %>%\n",
    "            filter(instr(key, \"dmp\")>0)\n",
    "txt2"
   ]
  },
  {
   "cell_type": "code",
   "execution_count": 66,
   "metadata": {},
   "outputs": [
    {
     "data": {
      "text/html": [
       "'\"test\"'"
      ],
      "text/latex": [
       "'\"test\"'"
      ],
      "text/markdown": [
       "'\"test\"'"
      ],
      "text/plain": [
       "[1] \"\\\"test\\\"\""
      ]
     },
     "metadata": {},
     "output_type": "display_data"
    }
   ],
   "source": [
    "# doesn't work\n",
    "#spark_apply(txt2, split_key, context = { colName <- \"key\" })\n",
    "variable = \"test\"\n",
    "as_label(variable)"
   ]
  },
  {
   "cell_type": "code",
   "execution_count": 70,
   "metadata": {},
   "outputs": [],
   "source": [
    "# so string split is returning a list object which spark doesn't know how to deal with\n",
    "get_object_spark <- function(df, col, newColName) {\n",
    "    df %>%\n",
    "      mutate( as_label(newColName) <- reverse(split(reverse( df[[col]] ),'/')[0]) )\n",
    "} "
   ]
  },
  {
   "cell_type": "code",
   "execution_count": 91,
   "metadata": {},
   "outputs": [
    {
     "data": {
      "text/plain": [
       "\u001b[38;5;246m# Source: spark<?> [?? x 5]\u001b[39m\n",
       "   key                 requestid   operation  object         prefix             \n",
       "   \u001b[3m\u001b[38;5;246m<chr>\u001b[39m\u001b[23m               \u001b[3m\u001b[38;5;246m<chr>\u001b[39m\u001b[23m       \u001b[3m\u001b[38;5;246m<chr>\u001b[39m\u001b[23m      \u001b[3m\u001b[38;5;246m<chr>\u001b[39m\u001b[23m          \u001b[3m\u001b[38;5;246m<chr>\u001b[39m\u001b[23m              \n",
       "\u001b[38;5;250m 1\u001b[39m dmp/rawcleansed/ed… 15F944538A… REST.HEAD… part-00123-8a… dmp/rawcleansed/ed…\n",
       "\u001b[38;5;250m 2\u001b[39m dmp/edh_fs_config/… DC0D21AA4F… REST.HEAD… part-00000-33… dmp/edh_fs_config/…\n",
       "\u001b[38;5;250m 3\u001b[39m dmp/rawcleansed/ed… 637FF3AD75… REST.GET.… part-00010-86… dmp/rawcleansed/ed…\n",
       "\u001b[38;5;250m 4\u001b[39m dmp/edh_fs_config/… DEC9747EEC… REST.HEAD… part-00000-33… dmp/edh_fs_config/…\n",
       "\u001b[38;5;250m 5\u001b[39m dmp/rawcleansed/ed… A0B7D2916D… REST.HEAD… part-00054-f9… dmp/rawcleansed/ed…\n",
       "\u001b[38;5;250m 6\u001b[39m dmp/edh_fs_config/… E916FC6B86… REST.HEAD… part-00000-33… dmp/edh_fs_config/…\n",
       "\u001b[38;5;250m 7\u001b[39m dmp/rawcleansed/ed… A558C5A885… REST.GET.… part-00191-42… dmp/rawcleansed/ed…\n",
       "\u001b[38;5;250m 8\u001b[39m dmp/edh_fs_config/… E9E87B55F7… REST.GET.… part-00000-33… dmp/edh_fs_config/…\n",
       "\u001b[38;5;250m 9\u001b[39m dmp/rawcleansed/ed… 234D569DE2… REST.HEAD… part-00156-44… dmp/rawcleansed/ed…\n",
       "\u001b[38;5;250m10\u001b[39m dmp/edh_fs_config/… EB35C9B672… REST.GET.… part-00000-34… dmp/edh_fs_config/…\n",
       "\u001b[38;5;246m# … with more rows\u001b[39m"
      ]
     },
     "metadata": {},
     "output_type": "display_data"
    }
   ],
   "source": [
    "# We can just hive regex to get the last thing\n",
    "txt2 %>% \n",
    "    select(key, requestid, operation) %>%\n",
    "    mutate(object := regexp_extract(key, '.*/([^/]+)$', 1),\n",
    "          prefix := regexp_extract(key, '.*/([^/]+)$', 0))\n",
    "#sdf_separate_column(\"object\") \n",
    "\n",
    "# sdf_separate_column(object, 1)"
   ]
  }
 ],
 "metadata": {
  "kernelspec": {
   "display_name": "R",
   "language": "R",
   "name": "ir"
  },
  "language_info": {
   "codemirror_mode": "r",
   "file_extension": ".r",
   "mimetype": "text/x-r-source",
   "name": "R",
   "pygments_lexer": "r",
   "version": "4.0.3"
  }
 },
 "nbformat": 4,
 "nbformat_minor": 4
}
