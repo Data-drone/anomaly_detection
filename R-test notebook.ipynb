{
 "cells": [
  {
   "cell_type": "markdown",
   "metadata": {},
   "source": [
    "# Testing with R"
   ]
  },
  {
   "cell_type": "code",
   "execution_count": 1,
   "metadata": {
    "scrolled": false
   },
   "outputs": [
    {
     "name": "stderr",
     "output_type": "stream",
     "text": [
      "Installing package into ‘/usr/local/spark-3.0.1-bin-hadoop3.2/R/lib’\n",
      "(as ‘lib’ is unspecified)\n",
      "\n"
     ]
    }
   ],
   "source": [
    "install.packages(\"sparklyr\")"
   ]
  },
  {
   "cell_type": "code",
   "execution_count": 9,
   "metadata": {},
   "outputs": [
    {
     "name": "stderr",
     "output_type": "stream",
     "text": [
      "Installing package into ‘/usr/local/spark-3.0.1-bin-hadoop3.2/R/lib’\n",
      "(as ‘lib’ is unspecified)\n",
      "\n",
      "also installing the dependencies ‘highr’, ‘markdown’, ‘rematch’, ‘knitr’, ‘tinytex’, ‘xfun’, ‘clipr’, ‘BH’, ‘cpp11’, ‘cellranger’, ‘progress’, ‘fs’, ‘rmarkdown’, ‘whisker’, ‘selectr’, ‘broom’, ‘forcats’, ‘haven’, ‘hms’, ‘lubridate’, ‘modelr’, ‘readr’, ‘readxl’, ‘reprex’, ‘rvest’\n",
      "\n",
      "\n"
     ]
    }
   ],
   "source": [
    "install.packages(\"tidyverse\")"
   ]
  },
  {
   "cell_type": "markdown",
   "metadata": {},
   "source": [
    "### Import Libraries"
   ]
  },
  {
   "cell_type": "code",
   "execution_count": 10,
   "metadata": {},
   "outputs": [
    {
     "name": "stderr",
     "output_type": "stream",
     "text": [
      "── \u001b[1mAttaching packages\u001b[22m ─────────────────────────────────────── tidyverse 1.3.0 ──\n",
      "\n",
      "\u001b[32m✔\u001b[39m \u001b[34mggplot2\u001b[39m 3.3.2     \u001b[32m✔\u001b[39m \u001b[34mpurrr  \u001b[39m 0.3.4\n",
      "\u001b[32m✔\u001b[39m \u001b[34mtibble \u001b[39m 3.0.4     \u001b[32m✔\u001b[39m \u001b[34mdplyr  \u001b[39m 1.0.2\n",
      "\u001b[32m✔\u001b[39m \u001b[34mtidyr  \u001b[39m 1.1.2     \u001b[32m✔\u001b[39m \u001b[34mstringr\u001b[39m 1.4.0\n",
      "\u001b[32m✔\u001b[39m \u001b[34mreadr  \u001b[39m 1.4.0     \u001b[32m✔\u001b[39m \u001b[34mforcats\u001b[39m 0.5.0\n",
      "\n",
      "── \u001b[1mConflicts\u001b[22m ────────────────────────────────────────── tidyverse_conflicts() ──\n",
      "\u001b[31m✖\u001b[39m \u001b[34mdplyr\u001b[39m::\u001b[32mfilter()\u001b[39m masks \u001b[34mstats\u001b[39m::filter()\n",
      "\u001b[31m✖\u001b[39m \u001b[34mpurrr\u001b[39m::\u001b[32minvoke()\u001b[39m masks \u001b[34msparklyr\u001b[39m::invoke()\n",
      "\u001b[31m✖\u001b[39m \u001b[34mdplyr\u001b[39m::\u001b[32mlag()\u001b[39m    masks \u001b[34mstats\u001b[39m::lag()\n",
      "\n"
     ]
    }
   ],
   "source": [
    "library(sparklyr)\n",
    "library(tidyverse)"
   ]
  },
  {
   "cell_type": "code",
   "execution_count": 3,
   "metadata": {},
   "outputs": [],
   "source": [
    "conf <- spark_config()"
   ]
  },
  {
   "cell_type": "code",
   "execution_count": 4,
   "metadata": {},
   "outputs": [],
   "source": [
    "conf$`sparklyr.cores.local` <- 6\n",
    "conf$`sparklyr.shell.driver-memory` <- \"12G\""
   ]
  },
  {
   "cell_type": "code",
   "execution_count": 5,
   "metadata": {},
   "outputs": [],
   "source": [
    "sc <- spark_connect(master = \"local\", config = conf)"
   ]
  },
  {
   "cell_type": "markdown",
   "metadata": {},
   "source": [
    "### Load Parquet Frames"
   ]
  },
  {
   "cell_type": "code",
   "execution_count": 6,
   "metadata": {
    "scrolled": true
   },
   "outputs": [
    {
     "data": {
      "text/html": [
       "'data/s3_parquet_logs.c000'"
      ],
      "text/latex": [
       "'data/s3\\_parquet\\_logs.c000'"
      ],
      "text/markdown": [
       "'data/s3_parquet_logs.c000'"
      ],
      "text/plain": [
       "[1] \"data/s3_parquet_logs.c000\""
      ]
     },
     "metadata": {},
     "output_type": "display_data"
    }
   ],
   "source": [
    "system(\"ls data/*\", intern=TRUE)"
   ]
  },
  {
   "cell_type": "code",
   "execution_count": 12,
   "metadata": {
    "scrolled": true
   },
   "outputs": [],
   "source": [
    "txt <- spark_read_parquet(sc, \"logdata\", \"data/*\")"
   ]
  },
  {
   "cell_type": "markdown",
   "metadata": {},
   "source": [
    "### Build UDFs"
   ]
  },
  {
   "cell_type": "code",
   "execution_count": 74,
   "metadata": {},
   "outputs": [
    {
     "data": {
      "text/html": [
       "'words'"
      ],
      "text/latex": [
       "'words'"
      ],
      "text/markdown": [
       "'words'"
      ],
      "text/plain": [
       "[1] \"words\""
      ]
     },
     "metadata": {},
     "output_type": "display_data"
    }
   ],
   "source": [
    "test <- \"there/are/a/lot/of/words\"\n",
    "dplyr::last(str_split(test, '/', simplify=TRUE))"
   ]
  },
  {
   "cell_type": "code",
   "execution_count": 77,
   "metadata": {},
   "outputs": [],
   "source": [
    "get_object <- function(string) {\n",
    "    splitted <- str_split(string, '/', simplify=TRUE)\n",
    "    s3_object <- dplyr::last(splitted)\n",
    "    return(s3_object)\n",
    "}"
   ]
  },
  {
   "cell_type": "code",
   "execution_count": 78,
   "metadata": {},
   "outputs": [
    {
     "data": {
      "text/html": [
       "'words'"
      ],
      "text/latex": [
       "'words'"
      ],
      "text/markdown": [
       "'words'"
      ],
      "text/plain": [
       "[1] \"words\""
      ]
     },
     "metadata": {},
     "output_type": "display_data"
    }
   ],
   "source": [
    "get_object(test)"
   ]
  },
  {
   "cell_type": "code",
   "execution_count": 88,
   "metadata": {},
   "outputs": [
    {
     "data": {
      "text/html": [
       "'there/are/a/lot/of'"
      ],
      "text/latex": [
       "'there/are/a/lot/of'"
      ],
      "text/markdown": [
       "'there/are/a/lot/of'"
      ],
      "text/plain": [
       "[1] \"there/are/a/lot/of\""
      ]
     },
     "metadata": {},
     "output_type": "display_data"
    }
   ],
   "source": [
    "splitted <- str_split(test, '/', simplify=TRUE)\n",
    "paste(splitted[,-ncol(splitted)], collapse=\"/\")"
   ]
  },
  {
   "cell_type": "code",
   "execution_count": 92,
   "metadata": {},
   "outputs": [],
   "source": [
    "get_prefix <- function(df , column) {\n",
    "    splitted <- str_split(df$column, '/', simplify=TRUE)\n",
    "    all_but_last <- splitted[,-ncol(splitted)]\n",
    "    concat <- paste(all_but_last, collapse = \"/\")\n",
    "    return(concat)\n",
    "}"
   ]
  },
  {
   "cell_type": "code",
   "execution_count": 90,
   "metadata": {},
   "outputs": [
    {
     "data": {
      "text/html": [
       "'there/are/a/lot/of'"
      ],
      "text/latex": [
       "'there/are/a/lot/of'"
      ],
      "text/markdown": [
       "'there/are/a/lot/of'"
      ],
      "text/plain": [
       "[1] \"there/are/a/lot/of\""
      ]
     },
     "metadata": {},
     "output_type": "display_data"
    }
   ],
   "source": [
    "get_prefix(test)"
   ]
  },
  {
   "cell_type": "markdown",
   "metadata": {},
   "source": [
    "### Process Dataframes"
   ]
  },
  {
   "cell_type": "code",
   "execution_count": 15,
   "metadata": {},
   "outputs": [],
   "source": [
    "txt2 <- txt %>%\n",
    "            filter(instr(key, \"dmp\")>0)"
   ]
  },
  {
   "cell_type": "code",
   "execution_count": 94,
   "metadata": {},
   "outputs": [
    {
     "ename": "ERROR",
     "evalue": "Error: $ operator is invalid for atomic vectors\n",
     "output_type": "error",
     "traceback": [
      "Error: $ operator is invalid for atomic vectors\nTraceback:\n",
      "1. txt2 %>% select(key, requestid, operation) %>% spark_apply(get_prefix(\"key\"))",
      "2. withVisible(eval(quote(`_fseq`(`_lhs`)), env, env))",
      "3. eval(quote(`_fseq`(`_lhs`)), env, env)",
      "4. eval(quote(`_fseq`(`_lhs`)), env, env)",
      "5. `_fseq`(`_lhs`)",
      "6. freduce(value, `_function_list`)",
      "7. withVisible(function_list[[k]](value))",
      "8. function_list[[k]](value)",
      "9. spark_apply(., get_prefix(\"key\"))",
      "10. assert_that(is.function(f) || is.raw(f) || is.language(f))",
      "11. see_if(..., env = env, msg = msg)",
      "12. tryCatch({\n  .     eval(assertion, env)\n  . }, assertError = function(e) {\n  .     structure(FALSE, msg = e$message)\n  . })",
      "13. tryCatchList(expr, classes, parentenv, handlers)",
      "14. tryCatchOne(expr, names, parentenv, handlers[[1L]])",
      "15. doTryCatch(return(expr), name, parentenv, handler)",
      "16. eval(assertion, env)",
      "17. eval(assertion, env)",
      "18. get_prefix(\"key\")",
      "19. str_split(df$column, \"/\", simplify = TRUE)   # at line 2 of file <text>",
      "20. stri_split_regex(string, pattern, n = n, simplify = simplify, \n  .     opts_regex = opts(pattern))"
     ]
    }
   ],
   "source": [
    "txt2 %>% \n",
    "    select(key, requestid, operation) %>%\n",
    "    spark_apply(get_prefix(\"key\"))"
   ]
  }
 ],
 "metadata": {
  "kernelspec": {
   "display_name": "R",
   "language": "R",
   "name": "ir"
  },
  "language_info": {
   "codemirror_mode": "r",
   "file_extension": ".r",
   "mimetype": "text/x-r-source",
   "name": "R",
   "pygments_lexer": "r",
   "version": "4.0.3"
  }
 },
 "nbformat": 4,
 "nbformat_minor": 4
}
