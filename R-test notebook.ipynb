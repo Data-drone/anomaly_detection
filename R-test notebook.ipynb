{
 "cells": [
  {
   "cell_type": "markdown",
   "metadata": {},
   "source": [
    "# Testing with R"
   ]
  },
  {
   "cell_type": "code",
   "execution_count": 1,
   "metadata": {
    "scrolled": false
   },
   "outputs": [
    {
     "name": "stderr",
     "output_type": "stream",
     "text": [
      "Installing package into ‘/usr/local/spark-3.0.1-bin-hadoop3.2/R/lib’\n",
      "(as ‘lib’ is unspecified)\n",
      "\n"
     ]
    }
   ],
   "source": [
    "install.packages(\"sparklyr\")"
   ]
  },
  {
   "cell_type": "code",
   "execution_count": 2,
   "metadata": {},
   "outputs": [
    {
     "name": "stderr",
     "output_type": "stream",
     "text": [
      "Installing package into ‘/usr/local/spark-3.0.1-bin-hadoop3.2/R/lib’\n",
      "(as ‘lib’ is unspecified)\n",
      "\n"
     ]
    }
   ],
   "source": [
    "install.packages(\"tidyverse\")"
   ]
  },
  {
   "cell_type": "code",
   "execution_count": 3,
   "metadata": {},
   "outputs": [
    {
     "name": "stderr",
     "output_type": "stream",
     "text": [
      "Installing package into ‘/usr/local/spark-3.0.1-bin-hadoop3.2/R/lib’\n",
      "(as ‘lib’ is unspecified)\n",
      "\n"
     ]
    }
   ],
   "source": [
    "install.packages(\"nycflights13\")"
   ]
  },
  {
   "cell_type": "markdown",
   "metadata": {},
   "source": [
    "### Import Libraries"
   ]
  },
  {
   "cell_type": "code",
   "execution_count": 4,
   "metadata": {},
   "outputs": [
    {
     "name": "stderr",
     "output_type": "stream",
     "text": [
      "── \u001b[1mAttaching packages\u001b[22m ─────────────────────────────────────── tidyverse 1.3.0 ──\n",
      "\n",
      "\u001b[32m✔\u001b[39m \u001b[34mggplot2\u001b[39m 3.3.2     \u001b[32m✔\u001b[39m \u001b[34mpurrr  \u001b[39m 0.3.4\n",
      "\u001b[32m✔\u001b[39m \u001b[34mtibble \u001b[39m 3.0.4     \u001b[32m✔\u001b[39m \u001b[34mdplyr  \u001b[39m 1.0.2\n",
      "\u001b[32m✔\u001b[39m \u001b[34mtidyr  \u001b[39m 1.1.2     \u001b[32m✔\u001b[39m \u001b[34mstringr\u001b[39m 1.4.0\n",
      "\u001b[32m✔\u001b[39m \u001b[34mreadr  \u001b[39m 1.4.0     \u001b[32m✔\u001b[39m \u001b[34mforcats\u001b[39m 0.5.0\n",
      "\n",
      "── \u001b[1mConflicts\u001b[22m ────────────────────────────────────────── tidyverse_conflicts() ──\n",
      "\u001b[31m✖\u001b[39m \u001b[34mdplyr\u001b[39m::\u001b[32mfilter()\u001b[39m masks \u001b[34mstats\u001b[39m::filter()\n",
      "\u001b[31m✖\u001b[39m \u001b[34mpurrr\u001b[39m::\u001b[32minvoke()\u001b[39m masks \u001b[34msparklyr\u001b[39m::invoke()\n",
      "\u001b[31m✖\u001b[39m \u001b[34mdplyr\u001b[39m::\u001b[32mlag()\u001b[39m    masks \u001b[34mstats\u001b[39m::lag()\n",
      "\n"
     ]
    }
   ],
   "source": [
    "library(sparklyr)\n",
    "library(tidyverse)"
   ]
  },
  {
   "cell_type": "code",
   "execution_count": 5,
   "metadata": {},
   "outputs": [],
   "source": [
    "conf <- spark_config()"
   ]
  },
  {
   "cell_type": "code",
   "execution_count": 6,
   "metadata": {},
   "outputs": [],
   "source": [
    "conf$`sparklyr.cores.local` <- 6\n",
    "conf$`sparklyr.shell.driver-memory` <- \"12G\""
   ]
  },
  {
   "cell_type": "code",
   "execution_count": 7,
   "metadata": {},
   "outputs": [],
   "source": [
    "sc <- spark_connect(master = \"local\", config = conf)"
   ]
  },
  {
   "cell_type": "markdown",
   "metadata": {},
   "source": [
    "### Load Parquet Frames"
   ]
  },
  {
   "cell_type": "code",
   "execution_count": 8,
   "metadata": {
    "scrolled": true
   },
   "outputs": [
    {
     "data": {
      "text/html": [
       "'data/s3_parquet_logs.c000'"
      ],
      "text/latex": [
       "'data/s3\\_parquet\\_logs.c000'"
      ],
      "text/markdown": [
       "'data/s3_parquet_logs.c000'"
      ],
      "text/plain": [
       "[1] \"data/s3_parquet_logs.c000\""
      ]
     },
     "metadata": {},
     "output_type": "display_data"
    }
   ],
   "source": [
    "system(\"ls data/*\", intern=TRUE)"
   ]
  },
  {
   "cell_type": "code",
   "execution_count": 9,
   "metadata": {
    "scrolled": true
   },
   "outputs": [],
   "source": [
    "txt <- spark_read_parquet(sc, \"logdata\", \"data/*\")"
   ]
  },
  {
   "cell_type": "markdown",
   "metadata": {},
   "source": [
    "### Build UDFs"
   ]
  },
  {
   "cell_type": "code",
   "execution_count": 10,
   "metadata": {},
   "outputs": [
    {
     "data": {
      "text/html": [
       "'words'"
      ],
      "text/latex": [
       "'words'"
      ],
      "text/markdown": [
       "'words'"
      ],
      "text/plain": [
       "[1] \"words\""
      ]
     },
     "metadata": {},
     "output_type": "display_data"
    }
   ],
   "source": [
    "test <- \"there/are/a/lot/of/words\"\n",
    "dplyr::last(str_split(test, '/', simplify=TRUE))"
   ]
  },
  {
   "cell_type": "code",
   "execution_count": 11,
   "metadata": {},
   "outputs": [],
   "source": [
    "get_object <- function(string) {\n",
    "    splitted <- str_split(string, '/', simplify=TRUE)\n",
    "    s3_object <- dplyr::last(splitted)\n",
    "    return(s3_object)\n",
    "}"
   ]
  },
  {
   "cell_type": "code",
   "execution_count": 12,
   "metadata": {},
   "outputs": [
    {
     "data": {
      "text/html": [
       "'words'"
      ],
      "text/latex": [
       "'words'"
      ],
      "text/markdown": [
       "'words'"
      ],
      "text/plain": [
       "[1] \"words\""
      ]
     },
     "metadata": {},
     "output_type": "display_data"
    }
   ],
   "source": [
    "get_object(test)"
   ]
  },
  {
   "cell_type": "code",
   "execution_count": 13,
   "metadata": {},
   "outputs": [
    {
     "data": {
      "text/html": [
       "'there/are/a/lot/of'"
      ],
      "text/latex": [
       "'there/are/a/lot/of'"
      ],
      "text/markdown": [
       "'there/are/a/lot/of'"
      ],
      "text/plain": [
       "[1] \"there/are/a/lot/of\""
      ]
     },
     "metadata": {},
     "output_type": "display_data"
    }
   ],
   "source": [
    "splitted <- str_split(test, '/', simplify=TRUE)\n",
    "paste(splitted[,-ncol(splitted)], collapse=\"/\")"
   ]
  },
  {
   "cell_type": "code",
   "execution_count": 14,
   "metadata": {},
   "outputs": [],
   "source": [
    "get_prefix <- function(string) {\n",
    "    \n",
    "    splitted <- stringr::str_split(string, '/', simplify=TRUE)\n",
    "    all_but_last <- splitted[,-ncol(splitted)]\n",
    "    concat <- paste(all_but_last, collapse = \"/\")\n",
    "    return(concat)\n",
    "}"
   ]
  },
  {
   "cell_type": "code",
   "execution_count": 15,
   "metadata": {},
   "outputs": [
    {
     "data": {
      "text/html": [
       "'there/are/a/lot/of'"
      ],
      "text/latex": [
       "'there/are/a/lot/of'"
      ],
      "text/markdown": [
       "'there/are/a/lot/of'"
      ],
      "text/plain": [
       "[1] \"there/are/a/lot/of\""
      ]
     },
     "metadata": {},
     "output_type": "display_data"
    }
   ],
   "source": [
    "get_prefix(test)"
   ]
  },
  {
   "cell_type": "code",
   "execution_count": 39,
   "metadata": {},
   "outputs": [],
   "source": [
    "# new attempt at R function for spark apply\n",
    "split_key <- function(df, colName) {\n",
    "    \n",
    "    splitted <- stringr::str_split(df[[colName]], '/', simplify=TRUE)\n",
    "    all_but_last <- splitted[,-ncol(splitted)]\n",
    "    concat <- paste(all_but_last, collapse = \"/\")\n",
    "    object <- dplyr::last(splitted)\n",
    "    \n",
    "    df %>% mutate(prefix = concat, object = object)\n",
    "}"
   ]
  },
  {
   "cell_type": "markdown",
   "metadata": {},
   "source": [
    "### Process Dataframes"
   ]
  },
  {
   "cell_type": "code",
   "execution_count": 42,
   "metadata": {},
   "outputs": [
    {
     "data": {
      "text/plain": [
       "\u001b[38;5;246m# Source: spark<?> [?? x 28]\u001b[39m\n",
       "   bucketowner bucket requestdatetime remoteip requester requestid operation\n",
       "   \u001b[3m\u001b[38;5;246m<chr>\u001b[39m\u001b[23m       \u001b[3m\u001b[38;5;246m<chr>\u001b[39m\u001b[23m  \u001b[3m\u001b[38;5;246m<chr>\u001b[39m\u001b[23m           \u001b[3m\u001b[38;5;246m<chr>\u001b[39m\u001b[23m    \u001b[3m\u001b[38;5;246m<chr>\u001b[39m\u001b[23m     \u001b[3m\u001b[38;5;246m<chr>\u001b[39m\u001b[23m     \u001b[3m\u001b[38;5;246m<chr>\u001b[39m\u001b[23m    \n",
       "\u001b[38;5;250m 1\u001b[39m 7409ed49be… alpha… 13/Jun/2020:04… 10.121.… arn:aws:… 15F94453… REST.HEA…\n",
       "\u001b[38;5;250m 2\u001b[39m 7409ed49be… alpha… 13/Jun/2020:04… 10.121.… arn:aws:… DC0D21AA… REST.HEA…\n",
       "\u001b[38;5;250m 3\u001b[39m 7409ed49be… alpha… 13/Jun/2020:04… 10.121.… arn:aws:… 637FF3AD… REST.GET…\n",
       "\u001b[38;5;250m 4\u001b[39m 7409ed49be… alpha… 13/Jun/2020:04… 10.121.… arn:aws:… DEC9747E… REST.HEA…\n",
       "\u001b[38;5;250m 5\u001b[39m 7409ed49be… alpha… 13/Jun/2020:04… 10.121.… arn:aws:… A0B7D291… REST.HEA…\n",
       "\u001b[38;5;250m 6\u001b[39m 7409ed49be… alpha… 13/Jun/2020:04… 10.121.… arn:aws:… E916FC6B… REST.HEA…\n",
       "\u001b[38;5;250m 7\u001b[39m 7409ed49be… alpha… 13/Jun/2020:04… 10.121.… arn:aws:… A558C5A8… REST.GET…\n",
       "\u001b[38;5;250m 8\u001b[39m 7409ed49be… alpha… 13/Jun/2020:04… 10.121.… arn:aws:… E9E87B55… REST.GET…\n",
       "\u001b[38;5;250m 9\u001b[39m 7409ed49be… alpha… 13/Jun/2020:04… 10.121.… arn:aws:… 234D569D… REST.HEA…\n",
       "\u001b[38;5;250m10\u001b[39m 7409ed49be… alpha… 13/Jun/2020:04… 10.121.… arn:aws:… EB35C9B6… REST.GET…\n",
       "\u001b[38;5;246m# … with more rows, and 21 more variables: key \u001b[3m\u001b[38;5;246m<chr>\u001b[38;5;246m\u001b[23m, request \u001b[3m\u001b[38;5;246m<chr>\u001b[38;5;246m\u001b[23m,\u001b[39m\n",
       "\u001b[38;5;246m#   httpstatus \u001b[3m\u001b[38;5;246m<chr>\u001b[38;5;246m\u001b[23m, errorcode \u001b[3m\u001b[38;5;246m<chr>\u001b[38;5;246m\u001b[23m, bytessent \u001b[3m\u001b[38;5;246m<int>\u001b[38;5;246m\u001b[23m, objectsize \u001b[3m\u001b[38;5;246m<int>\u001b[38;5;246m\u001b[23m,\u001b[39m\n",
       "\u001b[38;5;246m#   totaltime \u001b[3m\u001b[38;5;246m<int>\u001b[38;5;246m\u001b[23m, turnaroundtime \u001b[3m\u001b[38;5;246m<int>\u001b[38;5;246m\u001b[23m, referrer \u001b[3m\u001b[38;5;246m<chr>\u001b[38;5;246m\u001b[23m, useragent \u001b[3m\u001b[38;5;246m<chr>\u001b[38;5;246m\u001b[23m,\u001b[39m\n",
       "\u001b[38;5;246m#   versionid \u001b[3m\u001b[38;5;246m<chr>\u001b[38;5;246m\u001b[23m, hostid \u001b[3m\u001b[38;5;246m<chr>\u001b[38;5;246m\u001b[23m, sigv \u001b[3m\u001b[38;5;246m<chr>\u001b[38;5;246m\u001b[23m, ciphersuite \u001b[3m\u001b[38;5;246m<chr>\u001b[38;5;246m\u001b[23m,\u001b[39m\n",
       "\u001b[38;5;246m#   authtype \u001b[3m\u001b[38;5;246m<chr>\u001b[38;5;246m\u001b[23m, endpoint \u001b[3m\u001b[38;5;246m<chr>\u001b[38;5;246m\u001b[23m, tlsversion \u001b[3m\u001b[38;5;246m<chr>\u001b[38;5;246m\u001b[23m,\u001b[39m\n",
       "\u001b[38;5;246m#   requesturi_operation \u001b[3m\u001b[38;5;246m<chr>\u001b[38;5;246m\u001b[23m, requesturi_key \u001b[3m\u001b[38;5;246m<chr>\u001b[38;5;246m\u001b[23m,\u001b[39m\n",
       "\u001b[38;5;246m#   requesturi_httpprotoversion \u001b[3m\u001b[38;5;246m<chr>\u001b[38;5;246m\u001b[23m, requesttimestamp \u001b[3m\u001b[38;5;246m<dttm>\u001b[38;5;246m\u001b[23m\u001b[39m"
      ]
     },
     "metadata": {},
     "output_type": "display_data"
    }
   ],
   "source": [
    "txt2 <- txt %>%\n",
    "            filter(instr(key, \"dmp\")>0)\n",
    "txt2"
   ]
  },
  {
   "cell_type": "code",
   "execution_count": 43,
   "metadata": {},
   "outputs": [],
   "source": [
    "# doesn't work\n",
    "#spark_apply(txt2, split_key, context = { colName <- \"key\" })"
   ]
  },
  {
   "cell_type": "code",
   "execution_count": 52,
   "metadata": {},
   "outputs": [],
   "source": [
    "# so string split is returning a list object which spark doesn't know how to deal with\n",
    "get_object_spark <- function(df, col) {\n",
    "    df %>%\n",
    "      mutate( \"object\" := stringr::str_split(df[[col]], \"/\", simplify=TRUE)\n",
    "            )\n",
    "} "
   ]
  },
  {
   "cell_type": "code",
   "execution_count": 50,
   "metadata": {},
   "outputs": [
    {
     "name": "stderr",
     "output_type": "stream",
     "text": [
      "ERROR while rich displaying an object: Error in (function (classes, fdef, mtable) : unable to find an inherited method for function ‘dbQuoteString’ for signature ‘\"spark_connection\", \"matrix\"’\n",
      "\n",
      "Traceback:\n",
      "1. FUN(X[[i]], ...)\n",
      "2. tryCatch(withCallingHandlers({\n",
      " .     if (!mime %in% names(repr::mime2repr)) \n",
      " .         stop(\"No repr_* for mimetype \", mime, \" in repr::mime2repr\")\n",
      " .     rpr <- repr::mime2repr[[mime]](obj)\n",
      " .     if (is.null(rpr)) \n",
      " .         return(NULL)\n",
      " .     prepare_content(is.raw(rpr), rpr)\n",
      " . }, error = error_handler), error = outer_handler)\n",
      "3. tryCatchList(expr, classes, parentenv, handlers)\n",
      "4. tryCatchOne(expr, names, parentenv, handlers[[1L]])\n",
      "5. doTryCatch(return(expr), name, parentenv, handler)\n",
      "6. withCallingHandlers({\n",
      " .     if (!mime %in% names(repr::mime2repr)) \n",
      " .         stop(\"No repr_* for mimetype \", mime, \" in repr::mime2repr\")\n",
      " .     rpr <- repr::mime2repr[[mime]](obj)\n",
      " .     if (is.null(rpr)) \n",
      " .         return(NULL)\n",
      " .     prepare_content(is.raw(rpr), rpr)\n",
      " . }, error = error_handler)\n",
      "7. repr::mime2repr[[mime]](obj)\n",
      "8. repr_text.default(obj)\n",
      "9. paste(capture.output(print(obj)), collapse = \"\\n\")\n",
      "10. capture.output(print(obj))\n",
      "11. evalVis(expr)\n",
      "12. withVisible(eval(expr, pf))\n",
      "13. eval(expr, pf)\n",
      "14. eval(expr, pf)\n",
      "15. print(obj)\n",
      "16. print.tbl_spark(obj)\n",
      "17. spark_dataframe(x)\n",
      "18. spark_dataframe.tbl_spark(x)\n",
      "19. sql_render(sql_build(x, con = sc), con = sc)\n",
      "20. sql_build(x, con = sc)\n",
      "21. sql_build.tbl_lazy(x, con = sc)\n",
      "22. sql_build(op$ops, con = con, ...)\n",
      "23. sql_build.op_select(op$ops, con = con, ...)\n",
      "24. translate_sql_(op$args$vars, con, vars_group = op_grps(op), vars_order = translate_sql_(op_sort(op), \n",
      "  .     con, context = list(clause = \"ORDER\")), vars_frame = op_frame(op), \n",
      "  .     context = list(clause = \"SELECT\"))\n",
      "25. lapply(dots, function(x) {\n",
      "  .     if (is_null(get_expr(x))) {\n",
      "  .         NULL\n",
      "  .     }\n",
      "  .     else if (is_atomic(get_expr(x))) {\n",
      "  .         escape(get_expr(x), con = con)\n",
      "  .     }\n",
      "  .     else {\n",
      "  .         mask <- sql_data_mask(x, variant, con = con, window = window)\n",
      "  .         escape(eval_tidy(x, mask), con = con)\n",
      "  .     }\n",
      "  . })\n",
      "26. FUN(X[[i]], ...)\n",
      "27. escape(eval_tidy(x, mask), con = con)\n",
      "28. eval_tidy(x, mask)\n",
      "29. last(structure(character(0), .Dim = c(0L, 0L)))\n",
      "30. win_over(sql_expr(LAST_VALUE(!!x)), win_current_group(), order_by %||% \n",
      "  .     win_current_order(), win_current_frame())\n",
      "31. build_sql(expr, \" OVER \", over, con = con)\n",
      "32. purrr::map_chr(enexprs(...), escape_expr, con = con)\n",
      "33. .f(.x[[i]], ...)\n",
      "34. eval_bare(x, .env)\n",
      "35. sql_expr(LAST_VALUE(!!x))\n",
      "36. replace_expr(x, con = con)\n",
      "37. lapply(x[-1], replace_expr, con = con)\n",
      "38. FUN(X[[i]], ...)\n",
      "39. escape(unname(x), con = con)\n",
      "40. escape.character(unname(x), con = con)\n",
      "41. sql_vector(sql_escape_string(con, x), parens, collapse, con = con)\n",
      "42. sql_escape_string(con, x)\n",
      "43. sql_escape_string.DBIConnection(con, x)\n",
      "44. dbQuoteString(con, x)\n",
      "45. (function (classes, fdef, mtable) \n",
      "  . {\n",
      "  .     methods <- .findInheritedMethods(classes, fdef, mtable)\n",
      "  .     if (length(methods) == 1L) \n",
      "  .         return(methods[[1L]])\n",
      "  .     else if (length(methods) == 0L) {\n",
      "  .         cnames <- paste0(\"\\\"\", vapply(classes, as.character, \n",
      "  .             \"\"), \"\\\"\", collapse = \", \")\n",
      "  .         stop(gettextf(\"unable to find an inherited method for function %s for signature %s\", \n",
      "  .             sQuote(fdef@generic), sQuote(cnames)), domain = NA)\n",
      "  .     }\n",
      "  .     else stop(\"Internal error in finding inherited methods; didn't return a unique method\", \n",
      "  .         domain = NA)\n",
      "  . })(list(\"spark_connection\", \"matrix\"), new(\"standardGeneric\", \n",
      "  .     .Data = function (conn, x, ...) \n",
      "  .     standardGeneric(\"dbQuoteString\"), generic = structure(\"dbQuoteString\", package = \"DBI\"), \n",
      "  .     package = \"DBI\", group = list(), valueClass = character(0), \n",
      "  .     signature = c(\"conn\", \"x\"), default = NULL, skeleton = (function (conn, \n",
      "  .         x, ...) \n",
      "  .     stop(\"invalid call in method dispatch to 'dbQuoteString' (no default method)\", \n",
      "  .         domain = NA))(conn, x, ...)), <environment>)\n",
      "46. stop(gettextf(\"unable to find an inherited method for function %s for signature %s\", \n",
      "  .     sQuote(fdef@generic), sQuote(cnames)), domain = NA)\n"
     ]
    }
   ],
   "source": [
    "txt2 %>% \n",
    "    select(key, requestid, operation) %>%\n",
    "    get_object_spark(\"key\")\n",
    "    #mutate(object = stringr::str_split(key, '/', simplify=TRUE) %>% dplyr::last() )"
   ]
  }
 ],
 "metadata": {
  "kernelspec": {
   "display_name": "R",
   "language": "R",
   "name": "ir"
  },
  "language_info": {
   "codemirror_mode": "r",
   "file_extension": ".r",
   "mimetype": "text/x-r-source",
   "name": "R",
   "pygments_lexer": "r",
   "version": "4.0.3"
  }
 },
 "nbformat": 4,
 "nbformat_minor": 4
}
