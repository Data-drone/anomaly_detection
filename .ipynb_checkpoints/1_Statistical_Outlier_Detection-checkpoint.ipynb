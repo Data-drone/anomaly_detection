{
 "cells": [
  {
   "cell_type": "markdown",
   "metadata": {},
   "source": [
    "# Statistical Outlier Detection"
   ]
  },
  {
   "cell_type": "code",
   "execution_count": 1,
   "metadata": {},
   "outputs": [],
   "source": [
    "# Load data and create the dataframe that we need for processing going forward\n",
    "import pyspark\n",
    "from pyspark import SparkContext, SparkConf"
   ]
  },
  {
   "cell_type": "code",
   "execution_count": 2,
   "metadata": {},
   "outputs": [],
   "source": [
    "# set some spark conf\n",
    "spark_conf = SparkConf() \\\n",
    "    .setAppName(\"statistical_outlier_detection\") \\\n",
    "    .set(\"spark.driver.memory\", \"12g\") \\\n",
    "    .setMaster('local[*]')"
   ]
  },
  {
   "cell_type": "code",
   "execution_count": 3,
   "metadata": {},
   "outputs": [],
   "source": [
    "sc = SparkContext(conf = spark_conf)\n",
    "from pyspark.sql import SparkSession\n",
    "spark = SparkSession(sc).builder.getOrCreate()#.config(\"spark.driver.cores\", \"4\")"
   ]
  },
  {
   "cell_type": "markdown",
   "metadata": {},
   "source": [
    "# Build core dataframe\n",
    "\n",
    "We will do all our analysis off of this frame"
   ]
  },
  {
   "cell_type": "code",
   "execution_count": 6,
   "metadata": {},
   "outputs": [],
   "source": [
    "from pyspark.sql.functions import udf\n",
    "from pyspark.sql.types import StringType\n",
    "from pyspark.sql import *\n",
    "\n",
    "def get_object(s):\n",
    "    splitted = s.split(\"/\")\n",
    "    return splitted[-1]\n",
    "\n",
    "getobject_udf = udf(get_object, StringType())\n",
    "\n",
    "def get_prefix(s):\n",
    "    splitted = s.split(\"/\")\n",
    "    prefix = \"/\".join(splitted[0:-1])\n",
    "    return prefix\n",
    "\n",
    "getprefix_udf = udf(get_prefix, StringType())"
   ]
  },
  {
   "cell_type": "code",
   "execution_count": 8,
   "metadata": {},
   "outputs": [],
   "source": [
    "txt = spark.read.parquet('data/*')\n",
    "\n",
    "txt2 = txt \\\n",
    "  .filter( txt.key.startswith(\"dmp\") ) \\\n",
    "  .select(\"requesttimestamp\", \"operation\", \"turnaroundtime\", \"totaltime\", \\\n",
    "                  \"objectsize\", \"bytessent\", getobject_udf(\"key\").alias(\"object\"), \\\n",
    "                  getprefix_udf(\"key\").alias(\"prefix\"))"
   ]
  },
  {
   "cell_type": "markdown",
   "metadata": {},
   "source": [
    "# Statistical Tail Tests\n",
    "\n",
    "First we have to build distributions for the things that we are interested in. I will just build a normal distribution per prefix for now. In actual fact we would need to consider: \n",
    "- Number of samples per prefix\n",
    "- The best type of distribution on a pre prefix level\n",
    "- Should we be doing some sort of rolling window on the distribution fit?"
   ]
  },
  {
   "cell_type": "code",
   "execution_count": 13,
   "metadata": {},
   "outputs": [],
   "source": [
    "# return schema for my udaf\n",
    "from pyspark.sql.types import *\n",
    "from pyspark.sql.functions import collect_list\n",
    "\n",
    "norm_dist_schema = StructType([\n",
    "    StructField(\"mean\", FloatType(), True),\n",
    "    StructField(\"std\", FloatType(), True)\n",
    "])\n",
    "\n",
    "# the core udaf\n",
    "import numpy as np\n",
    "from scipy.stats import beta, norm\n",
    "\n",
    "def fit_norm_dist(s):\n",
    "    # flatten the numpy \n",
    "    number_np = np.array(s).flatten()\n",
    "    # run the fit and get the fit params\n",
    "    #try:\n",
    "    mean,std = norm.fit(np.array(number_np, dtype=float))\n",
    "    #except RuntimeError:\n",
    "    #    mean, std = 0,0\n",
    "        \n",
    "    return (float(mean), float(std))\n",
    "\n",
    "normfit_udf = udf(fit_norm_dist, norm_dist_schema)"
   ]
  },
  {
   "cell_type": "code",
   "execution_count": 17,
   "metadata": {},
   "outputs": [],
   "source": [
    "distribution_frame = txt2 \\\n",
    "                        .repartition(\"prefix\") \\\n",
    "                        .groupBy(\"prefix\") \\\n",
    "                        .agg(collect_list(\"totaltime\").alias(\"distfit\")) \\\n",
    "                        .withColumn(\"distfit\", normfit_udf(\"distfit\").alias(\"normfit\"))"
   ]
  },
  {
   "cell_type": "code",
   "execution_count": 19,
   "metadata": {},
   "outputs": [
    {
     "data": {
      "text/plain": [
       "59097"
      ]
     },
     "execution_count": 19,
     "metadata": {},
     "output_type": "execute_result"
    }
   ],
   "source": [
    "distribution_frame.count()"
   ]
  },
  {
   "cell_type": "code",
   "execution_count": 24,
   "metadata": {},
   "outputs": [
    {
     "data": {
      "text/plain": [
       "[Row(requesttimestamp=datetime.datetime(2020, 6, 13, 4, 17, 13), prefix='dmp/config/edhfs/transformationservices/edh_cim_audit/META_AUDIT_CIM_RUNLOG_BASE/.hive-staging_hive_2020-06-12_23-17-12_963_7371641359653212284-1/-ext-10000/_temporary', totaltime=11, distfit=Row(mean=9.199999809265137, std=1.600000023841858)),\n",
       " Row(requesttimestamp=datetime.datetime(2020, 6, 13, 4, 17, 13), prefix='dmp/config/edhfs/transformationservices/edh_cim_audit/META_AUDIT_CIM_RUNLOG_BASE/.hive-staging_hive_2020-06-12_23-17-12_963_7371641359653212284-1/-ext-10000/_temporary', totaltime=11, distfit=Row(mean=9.199999809265137, std=1.600000023841858)),\n",
       " Row(requesttimestamp=datetime.datetime(2020, 6, 13, 4, 17, 15), prefix='dmp/config/edhfs/transformationservices/edh_cim_audit/META_AUDIT_CIM_RUNLOG_BASE/.hive-staging_hive_2020-06-12_23-17-12_963_7371641359653212284-1/-ext-10000/_temporary', totaltime=9, distfit=Row(mean=9.199999809265137, std=1.600000023841858))]"
      ]
     },
     "execution_count": 24,
     "metadata": {},
     "output_type": "execute_result"
    }
   ],
   "source": [
    "# join the normal frame with this dist frame on prefix then see if the total time is an outlier\n",
    "merged_frame = txt2 \\\n",
    "  .filter(txt2.totaltime.isNotNull()) \\\n",
    "  .join(distribution_frame, on=['prefix'], how='left') \\\n",
    "  .select(\"requesttimestamp\", \"prefix\", \"totaltime\", \"distfit\").take(3)"
   ]
  },
  {
   "cell_type": "code",
   "execution_count": 42,
   "metadata": {},
   "outputs": [
    {
     "data": {
      "text/plain": [
       "KstestResult(statistic=0.9990881180344455, pvalue=1.971935308742607e-304)"
      ]
     },
     "execution_count": 42,
     "metadata": {},
     "output_type": "execute_result"
    }
   ],
   "source": [
    "# quickly sample some values\n",
    "import scipy\n",
    "vector = txt2.select(\"totaltime\").take(100)\n",
    "flat_vec = np.array(vector).flatten()\n",
    "fits = norm.fit(np.array(flat_vec, dtype=float))\n",
    "# shapiro test to see if the data was drawn from a normal dist\n",
    "scipy.stats.shapiro(np.array(flat_vec, dtype=float))\n",
    "\n",
    "# using ks test to check different distributions\n",
    "# we need to specify the parameters of the norm cdf for the kstest to work properly\n",
    "scipy.stats.kstest(np.array(flat_vec, dtype=float), 'expon')"
   ]
  },
  {
   "cell_type": "code",
   "execution_count": 41,
   "metadata": {},
   "outputs": [
    {
     "name": "stderr",
     "output_type": "stream",
     "text": [
      "/opt/conda/lib/python3.8/site-packages/seaborn/distributions.py:2551: FutureWarning: `distplot` is a deprecated function and will be removed in a future version. Please adapt your code to use either `displot` (a figure-level function with similar flexibility) or `histplot` (an axes-level function for histograms).\n",
      "  warnings.warn(msg, FutureWarning)\n"
     ]
    },
    {
     "data": {
      "text/plain": [
       "<AxesSubplot:ylabel='Density'>"
      ]
     },
     "execution_count": 41,
     "metadata": {},
     "output_type": "execute_result"
    },
    {
     "data": {
      "image/png": "[encoded data removed]",
      "text/plain": [
       "<Figure size 432x288 with 1 Axes>"
      ]
     },
     "metadata": {
      "needs_background": "light"
     },
     "output_type": "display_data"
    }
   ],
   "source": [
    "# plot the random vars\n",
    "import seaborn as sns\n",
    "%matplotlib inline\n",
    "sns.distplot(np.array(flat_vec, dtype=float))"
   ]
  },
  {
   "cell_type": "code",
   "execution_count": null,
   "metadata": {},
   "outputs": [],
   "source": [
    "# run some stat tests against the dataframes\n",
    "# build the spark udaf to do this\n",
    "def check_outlier(value, norm_dist_params):\n",
    "    \n",
    "    return answer"
   ]
  }
 ],
 "metadata": {
  "kernelspec": {
   "display_name": "Python 3",
   "language": "python",
   "name": "python3"
  },
  "language_info": {
   "codemirror_mode": {
    "name": "ipython",
    "version": 3
   },
   "file_extension": ".py",
   "mimetype": "text/x-python",
   "name": "python",
   "nbconvert_exporter": "python",
   "pygments_lexer": "ipython3",
   "version": "3.8.6"
  }
 },
 "nbformat": 4,
 "nbformat_minor": 4
}
