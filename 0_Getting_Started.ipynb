{
 "cells": [
  {
   "cell_type": "markdown",
   "metadata": {},
   "source": [
    "# Getting Started with PySpark"
   ]
  },
  {
   "cell_type": "code",
   "execution_count": 1,
   "metadata": {},
   "outputs": [],
   "source": [
    "import pyspark\n",
    "from pyspark import SparkContext, SparkConf"
   ]
  },
  {
   "cell_type": "code",
   "execution_count": 2,
   "metadata": {},
   "outputs": [],
   "source": [
    "# set some spark conf\n",
    "spark_conf = SparkConf() \\\n",
    "    .setAppName(\"anomaly_modelling\") \\\n",
    "    .set(\"spark.driver.memory\", \"12g\") \\\n",
    "    .setMaster('local[*]')"
   ]
  },
  {
   "cell_type": "code",
   "execution_count": 3,
   "metadata": {},
   "outputs": [],
   "source": [
    "#sc.stop()"
   ]
  },
  {
   "cell_type": "code",
   "execution_count": 4,
   "metadata": {},
   "outputs": [],
   "source": [
    "sc = SparkContext(conf = spark_conf)"
   ]
  },
  {
   "cell_type": "code",
   "execution_count": 5,
   "metadata": {},
   "outputs": [],
   "source": [
    "# get our sparksession\n",
    "from pyspark.sql import SparkSession\n",
    "spark = SparkSession(sc).builder.getOrCreate()#.config(\"spark.driver.cores\", \"4\")"
   ]
  },
  {
   "cell_type": "code",
   "execution_count": 6,
   "metadata": {},
   "outputs": [
    {
     "data": {
      "text/plain": [
       "[('spark.app.name', 'anomaly_modelling'),\n",
       " ('spark.driver.memory', '12g'),\n",
       " ('spark.rdd.compress', 'True'),\n",
       " ('spark.driver.port', '34943'),\n",
       " ('spark.driver.host', '346169229b3a'),\n",
       " ('spark.serializer.objectStreamReset', '100'),\n",
       " ('spark.master', 'local[*]'),\n",
       " ('spark.submit.pyFiles', ''),\n",
       " ('spark.executor.id', 'driver'),\n",
       " ('spark.submit.deployMode', 'client'),\n",
       " ('spark.ui.showConsoleProgress', 'true'),\n",
       " ('spark.app.id', 'local-1604803385280')]"
      ]
     },
     "execution_count": 6,
     "metadata": {},
     "output_type": "execute_result"
    }
   ],
   "source": [
    "spark.sparkContext.getConf().getAll()"
   ]
  },
  {
   "cell_type": "markdown",
   "metadata": {},
   "source": [
    "## Load My Test file"
   ]
  },
  {
   "cell_type": "code",
   "execution_count": 7,
   "metadata": {},
   "outputs": [
    {
     "name": "stdout",
     "output_type": "stream",
     "text": [
      "13758561\n"
     ]
    }
   ],
   "source": [
    "txt = spark.read.parquet('data/*')\n",
    "print(txt.count())"
   ]
  },
  {
   "cell_type": "code",
   "execution_count": 8,
   "metadata": {},
   "outputs": [
    {
     "name": "stdout",
     "output_type": "stream",
     "text": [
      "+-------+------------+------------------+--------------------+\n",
      "|summary|         key|         totaltime|          objectsize|\n",
      "+-------+------------+------------------+--------------------+\n",
      "|  count|    13758561|          13638028|            12791918|\n",
      "|   mean|        null|27.549267460075605|  1516564.8832174346|\n",
      "| stddev|        null| 65.15363121886377|1.4335017325813163E7|\n",
      "|    min|           -|                 1|                   0|\n",
      "|    max|prefix/dummy|             29596|          2118650593|\n",
      "+-------+------------+------------------+--------------------+\n",
      "\n"
     ]
    }
   ],
   "source": [
    "txt.select(\"key\", \"totaltime\", \"objectsize\").describe().show()"
   ]
  },
  {
   "cell_type": "markdown",
   "metadata": {},
   "source": [
    "## Do Some Processing"
   ]
  },
  {
   "cell_type": "markdown",
   "metadata": {},
   "source": [
    "Some things that we will have to get comfortable with include:\n",
    "- Managing driver RAM\n",
    "- How to work with stuff that doesn't all fit in driver RAM / executor RAM\n",
    "- using Python libs in this situation"
   ]
  },
  {
   "cell_type": "code",
   "execution_count": 113,
   "metadata": {},
   "outputs": [],
   "source": [
    "import seaborn as sns\n",
    "%matplotlib inline\n",
    "from scipy.stats import beta, norm\n",
    "import numpy as np "
   ]
  },
  {
   "cell_type": "code",
   "execution_count": 114,
   "metadata": {},
   "outputs": [],
   "source": [
    "totaltime_object = txt.select(\"totaltime\").take(500000)"
   ]
  },
  {
   "cell_type": "markdown",
   "metadata": {},
   "source": [
    "totaltime object is a DataFrame object which numpy and scipy cannot deal with so we need to convert it first. Taking the full object is also too big for us to fit into the driver RAM"
   ]
  },
  {
   "cell_type": "code",
   "execution_count": 115,
   "metadata": {},
   "outputs": [],
   "source": [
    "totaltime_np = np.array(totaltime_object).flatten()\n",
    "#totaltime_np = totaltime_np[~np.isnan(totaltime_np)]"
   ]
  },
  {
   "cell_type": "markdown",
   "metadata": {},
   "source": [
    "Note that we needed to convert to float in order fo the fitting to be done properly"
   ]
  },
  {
   "cell_type": "code",
   "execution_count": 117,
   "metadata": {},
   "outputs": [
    {
     "name": "stderr",
     "output_type": "stream",
     "text": [
      "/opt/conda/lib/python3.8/site-packages/scipy/stats/_continuous_distns.py:621: RuntimeWarning: invalid value encountered in sqrt\n",
      "  sk = 2*(b-a)*np.sqrt(a + b + 1) / (a + b + 2) / np.sqrt(a*b)\n",
      "/opt/conda/lib/python3.8/site-packages/scipy/optimize/minpack.py:175: RuntimeWarning: The iteration is not making good progress, as measured by the \n",
      "  improvement from the last ten iterations.\n",
      "  warnings.warn(msg, RuntimeWarning)\n"
     ]
    }
   ],
   "source": [
    "a1, b1, loc1, scale1 = beta.fit(np.array(totaltime_np[0:10], dtype=float))"
   ]
  },
  {
   "cell_type": "markdown",
   "metadata": {},
   "source": [
    "Now we can sample values.\n",
    "Lets sample then plot"
   ]
  },
  {
   "cell_type": "code",
   "execution_count": 118,
   "metadata": {},
   "outputs": [
    {
     "name": "stderr",
     "output_type": "stream",
     "text": [
      "/opt/conda/lib/python3.8/site-packages/seaborn/distributions.py:2551: FutureWarning: `distplot` is a deprecated function and will be removed in a future version. Please adapt your code to use either `displot` (a figure-level function with similar flexibility) or `histplot` (an axes-level function for histograms).\n",
      "  warnings.warn(msg, FutureWarning)\n"
     ]
    },
    {
     "data": {
      "text/plain": [
       "<AxesSubplot:ylabel='Density'>"
      ]
     },
     "execution_count": 118,
     "metadata": {},
     "output_type": "execute_result"
    },
    {
     "data": {
      "image/png": "[encoded data removed]",
      "text/plain": [
       "<Figure size 432x288 with 1 Axes>"
      ]
     },
     "metadata": {
      "needs_background": "light"
     },
     "output_type": "display_data"
    }
   ],
   "source": [
    "r = beta.rvs(a1, b1, loc1, scale1, size=1000)\n",
    "sns.distplot(r)"
   ]
  },
  {
   "cell_type": "code",
   "execution_count": 119,
   "metadata": {},
   "outputs": [
    {
     "data": {
      "text/plain": [
       "(24.6, 25.64449258612851)"
      ]
     },
     "execution_count": 119,
     "metadata": {},
     "output_type": "execute_result"
    }
   ],
   "source": [
    "# trying normfit\n",
    "norm.fit(np.array(totaltime_np[0:10], dtype=float))"
   ]
  },
  {
   "cell_type": "markdown",
   "metadata": {},
   "source": [
    "# Extract the AWS Prefix\n",
    "\n",
    "we need to extract and analyse data by the AWS Prefix"
   ]
  },
  {
   "cell_type": "code",
   "execution_count": 49,
   "metadata": {},
   "outputs": [],
   "source": [
    "from pyspark.sql.functions import udf\n",
    "from pyspark.sql.types import StringType"
   ]
  },
  {
   "cell_type": "code",
   "execution_count": 154,
   "metadata": {},
   "outputs": [],
   "source": [
    "def get_object(s):\n",
    "    splitted = s.split(\"/\")\n",
    "    return splitted[-1]\n",
    "\n",
    "getobject_udf = udf(get_object, StringType())\n",
    "\n",
    "def get_prefix(s):\n",
    "    splitted = s.split(\"/\")\n",
    "    prefix = \"/\".join(splitted[0:-1])\n",
    "    return prefix\n",
    "\n",
    "getprefix_udf = udf(get_prefix, StringType())"
   ]
  },
  {
   "cell_type": "code",
   "execution_count": 81,
   "metadata": {},
   "outputs": [
    {
     "data": {
      "text/plain": [
       "[Row(key='dmp/rawcleansed/edh_mcoe_hana/afko/partition%253D2/part-00123-8a3ee488-8530-4fb8-8800-e2ea24335fb2.c000', object='part-00123-8a3ee488-8530-4fb8-8800-e2ea24335fb2.c000', prefix='dmp/rawcleansed/edh_mcoe_hana/afko/partition%253D2'),\n",
       " Row(key='dmp/edh_fs_config/internal/compactionrunlog_dim/part-00000-33c61448-c1cf-4618-aebf-26e88844d6e2-c000', object='part-00000-33c61448-c1cf-4618-aebf-26e88844d6e2-c000', prefix='dmp/edh_fs_config/internal/compactionrunlog_dim'),\n",
       " Row(key='dmp/rawcleansed/edh_mcoe_hana/iflotx/partition%253D1/part-00010-8640b6e7-2068-442e-84c3-5ae6b8f8adf8.c000', object='part-00010-8640b6e7-2068-442e-84c3-5ae6b8f8adf8.c000', prefix='dmp/rawcleansed/edh_mcoe_hana/iflotx/partition%253D1')]"
      ]
     },
     "execution_count": 81,
     "metadata": {},
     "output_type": "execute_result"
    }
   ],
   "source": [
    "txt.select(\"key\", getobject_udf(\"key\").alias(\"object\"), getprefix_udf(\"key\").alias(\"prefix\")).take(3)"
   ]
  },
  {
   "cell_type": "code",
   "execution_count": 82,
   "metadata": {},
   "outputs": [
    {
     "data": {
      "text/plain": [
       "['bucketowner',\n",
       " 'bucket',\n",
       " 'requestdatetime',\n",
       " 'remoteip',\n",
       " 'requester',\n",
       " 'requestid',\n",
       " 'operation',\n",
       " 'key',\n",
       " 'request',\n",
       " 'httpstatus',\n",
       " 'errorcode',\n",
       " 'bytessent',\n",
       " 'objectsize',\n",
       " 'totaltime',\n",
       " 'turnaroundtime',\n",
       " 'referrer',\n",
       " 'useragent',\n",
       " 'versionid',\n",
       " 'hostid',\n",
       " 'sigv',\n",
       " 'ciphersuite',\n",
       " 'authtype',\n",
       " 'endpoint',\n",
       " 'tlsversion',\n",
       " 'requesturi_operation',\n",
       " 'requesturi_key',\n",
       " 'requesturi_httpprotoversion',\n",
       " 'requesttimestamp']"
      ]
     },
     "execution_count": 82,
     "metadata": {},
     "output_type": "execute_result"
    }
   ],
   "source": [
    "txt.columns"
   ]
  },
  {
   "cell_type": "code",
   "execution_count": 168,
   "metadata": {},
   "outputs": [
    {
     "data": {
      "text/plain": [
       "[Row(bucketowner='7409ed49bee6816819d2bd188ea9a867fa08ec38745cb08957f87f512ead10b6', bucket='alpha2-prod', requestdatetime='13/Jun/2020:04:02:44 +0000', remoteip='10.121.230.112', requester='arn:aws:iam::755270036439:user/CTSalpha2prodbucketuser', requestid='15F944538A1C9654', operation='REST.HEAD.OBJECT', key='dmp/rawcleansed/edh_mcoe_hana/afko/partition%253D2/part-00123-8a3ee488-8530-4fb8-8800-e2ea24335fb2.c000', request='\"HEAD /dmp/rawcleansed/edh_mcoe_hana/afko/partition%3D2/part-00123-8a3ee488-8530-4fb8-8800-e2ea24335fb2.c000 HTTP/1.1\"', httpstatus='200', errorcode='-', bytessent=None, objectsize=5957806, totaltime=11, turnaroundtime=None, referrer='\"-\"', useragent='\"Hadoop 2.6.0-cdh5.14.4, aws-sdk-java/1.11.134 Linux/3.10.0-862.51.1.el7.x86_64 Java_HotSpot(TM)_64-Bit_Server_VM/25.162-b12/1.8.0_162\"', versionid='-', hostid='nBSuS+gs/4iNasb4hxJU9YdWa3HOX+KLVF6hF+GIDz1PhpOrwMW7oauTtHIAa4/NI2btSUc/YU4=', sigv='SigV4', ciphersuite='ECDHE-RSA-AES128-SHA', authtype='AuthHeader', endpoint='alpha2-prod.s3.us-east-1.amazonaws.com', tlsversion='TLSv1.2', requesturi_operation='\"HEAD', requesturi_key='/dmp/rawcleansed/edh_mcoe_hana/afko/partition%3D2/part-00123-8a3ee488-8530-4fb8-8800-e2ea24335fb2.c000', requesturi_httpprotoversion='HTTP/1.1\"', requesttimestamp=datetime.datetime(2020, 6, 13, 4, 2, 44)),\n",
       " Row(bucketowner='7409ed49bee6816819d2bd188ea9a867fa08ec38745cb08957f87f512ead10b6', bucket='alpha2-prod', requestdatetime='13/Jun/2020:04:57:38 +0000', remoteip='10.121.232.241', requester='arn:aws:iam::755270036439:user/CTSalpha2prodbucketuser', requestid='DC0D21AA4FB60957', operation='REST.HEAD.OBJECT', key='dmp/edh_fs_config/internal/compactionrunlog_dim/part-00000-33c61448-c1cf-4618-aebf-26e88844d6e2-c000', request='\"HEAD /dmp/edh_fs_config/internal/compactionrunlog_dim/part-00000-33c61448-c1cf-4618-aebf-26e88844d6e2-c000 HTTP/1.1\"', httpstatus='200', errorcode='-', bytessent=None, objectsize=193, totaltime=8, turnaroundtime=None, referrer='\"-\"', useragent='\"Hadoop 2.6.0-cdh5.14.4, aws-sdk-java/1.11.134 Linux/3.10.0-862.51.1.el7.x86_64 Java_HotSpot(TM)_64-Bit_Server_VM/25.162-b12/1.8.0_162 scala/2.11.8\"', versionid='-', hostid='3QrX40AgfnDVczlXnldFo4QPq/uVIz1xu1+D4oZ+ay5y69m4WwBbYHew5oSjsnhMcZzpBSEpxuQ=', sigv='SigV4', ciphersuite='ECDHE-RSA-AES128-SHA', authtype='AuthHeader', endpoint='alpha2-prod.s3.us-east-1.amazonaws.com', tlsversion='TLSv1.2', requesturi_operation='\"HEAD', requesturi_key='/dmp/edh_fs_config/internal/compactionrunlog_dim/part-00000-33c61448-c1cf-4618-aebf-26e88844d6e2-c000', requesturi_httpprotoversion='HTTP/1.1\"', requesttimestamp=datetime.datetime(2020, 6, 13, 4, 57, 38)),\n",
       " Row(bucketowner='7409ed49bee6816819d2bd188ea9a867fa08ec38745cb08957f87f512ead10b6', bucket='alpha2-prod', requestdatetime='13/Jun/2020:04:02:44 +0000', remoteip='10.121.230.112', requester='arn:aws:iam::755270036439:user/CTSalpha2prodbucketuser', requestid='637FF3AD7549B22A', operation='REST.GET.OBJECT', key='dmp/rawcleansed/edh_mcoe_hana/iflotx/partition%253D1/part-00010-8640b6e7-2068-442e-84c3-5ae6b8f8adf8.c000', request='\"GET /dmp/rawcleansed/edh_mcoe_hana/iflotx/partition%3D1/part-00010-8640b6e7-2068-442e-84c3-5ae6b8f8adf8.c000 HTTP/1.1\"', httpstatus='206', errorcode='-', bytessent=1201, objectsize=1341, totaltime=18, turnaroundtime=17, referrer='\"-\"', useragent='\"Hadoop 2.6.0-cdh5.14.4, aws-sdk-java/1.11.134 Linux/3.10.0-862.51.1.el7.x86_64 Java_HotSpot(TM)_64-Bit_Server_VM/25.162-b12/1.8.0_162\"', versionid='-', hostid='7iPQY6ipA2t8txsVc2DwXEVHNeRT9E4WLxgm0peFzzfzHtrjBKbQgW+nmCfcEZ6VsCzhcovm2xk=', sigv='SigV4', ciphersuite='ECDHE-RSA-AES128-SHA', authtype='AuthHeader', endpoint='alpha2-prod.s3.us-east-1.amazonaws.com', tlsversion='TLSv1.2', requesturi_operation='\"GET', requesturi_key='/dmp/rawcleansed/edh_mcoe_hana/iflotx/partition%3D1/part-00010-8640b6e7-2068-442e-84c3-5ae6b8f8adf8.c000', requesturi_httpprotoversion='HTTP/1.1\"', requesttimestamp=datetime.datetime(2020, 6, 13, 4, 2, 44)),\n",
       " Row(bucketowner='7409ed49bee6816819d2bd188ea9a867fa08ec38745cb08957f87f512ead10b6', bucket='alpha2-prod', requestdatetime='13/Jun/2020:04:57:38 +0000', remoteip='10.121.232.241', requester='arn:aws:iam::755270036439:user/CTSalpha2prodbucketuser', requestid='DEC9747EEC32C4E5', operation='REST.HEAD.OBJECT', key='dmp/edh_fs_config/internal/compactionrunlog_dim/part-00000-33fac25f-b95f-461d-86e8-91da6f7b42ae-c000', request='\"HEAD /dmp/edh_fs_config/internal/compactionrunlog_dim/part-00000-33fac25f-b95f-461d-86e8-91da6f7b42ae-c000 HTTP/1.1\"', httpstatus='200', errorcode='-', bytessent=None, objectsize=177, totaltime=10, turnaroundtime=None, referrer='\"-\"', useragent='\"Hadoop 2.6.0-cdh5.14.4, aws-sdk-java/1.11.134 Linux/3.10.0-862.51.1.el7.x86_64 Java_HotSpot(TM)_64-Bit_Server_VM/25.162-b12/1.8.0_162 scala/2.11.8\"', versionid='-', hostid='5+OiTBP1PvVDMMiKkgGJw5E8YFAXXPpdJeXoahf2ZaDXnSS4T/khGouhZxjIYWn5RP0dzhTCDZU=', sigv='SigV4', ciphersuite='ECDHE-RSA-AES128-SHA', authtype='AuthHeader', endpoint='alpha2-prod.s3.us-east-1.amazonaws.com', tlsversion='TLSv1.2', requesturi_operation='\"HEAD', requesturi_key='/dmp/edh_fs_config/internal/compactionrunlog_dim/part-00000-33fac25f-b95f-461d-86e8-91da6f7b42ae-c000', requesturi_httpprotoversion='HTTP/1.1\"', requesttimestamp=datetime.datetime(2020, 6, 13, 4, 57, 38)),\n",
       " Row(bucketowner='7409ed49bee6816819d2bd188ea9a867fa08ec38745cb08957f87f512ead10b6', bucket='alpha2-prod', requestdatetime='13/Jun/2020:04:02:44 +0000', remoteip='10.121.230.112', requester='arn:aws:iam::755270036439:user/CTSalpha2prodbucketuser', requestid='A0B7D2916DAB2B19', operation='REST.HEAD.OBJECT', key='dmp/rawcleansed/edh_mcoe_hana/makt/partition%253D2/part-00054-f9cfb3e5-6bd0-412f-99f4-c7c567a47338.c000', request='\"HEAD /dmp/rawcleansed/edh_mcoe_hana/makt/partition%3D2/part-00054-f9cfb3e5-6bd0-412f-99f4-c7c567a47338.c000 HTTP/1.1\"', httpstatus='200', errorcode='-', bytessent=None, objectsize=979771, totaltime=50, turnaroundtime=None, referrer='\"-\"', useragent='\"Hadoop 2.6.0-cdh5.14.4, aws-sdk-java/1.11.134 Linux/3.10.0-862.51.1.el7.x86_64 Java_HotSpot(TM)_64-Bit_Server_VM/25.162-b12/1.8.0_162\"', versionid='-', hostid='jVXf/68ezr81qM3ca0YTqikPSRrQOpqQd7eKzqveNQ7QHHV9thxtbiC7Pq+NJFaP5M8eya7OL0k=', sigv='SigV4', ciphersuite='ECDHE-RSA-AES128-SHA', authtype='AuthHeader', endpoint='alpha2-prod.s3.us-east-1.amazonaws.com', tlsversion='TLSv1.2', requesturi_operation='\"HEAD', requesturi_key='/dmp/rawcleansed/edh_mcoe_hana/makt/partition%3D2/part-00054-f9cfb3e5-6bd0-412f-99f4-c7c567a47338.c000', requesturi_httpprotoversion='HTTP/1.1\"', requesttimestamp=datetime.datetime(2020, 6, 13, 4, 2, 44)),\n",
       " Row(bucketowner='7409ed49bee6816819d2bd188ea9a867fa08ec38745cb08957f87f512ead10b6', bucket='alpha2-prod', requestdatetime='13/Jun/2020:04:57:38 +0000', remoteip='10.121.232.241', requester='arn:aws:iam::755270036439:user/CTSalpha2prodbucketuser', requestid='E916FC6B86BACA5B', operation='REST.HEAD.OBJECT', key='dmp/edh_fs_config/internal/compactionrunlog_dim/part-00000-33d047cd-38f0-44a2-9a2c-4c269a0243f0-c000', request='\"HEAD /dmp/edh_fs_config/internal/compactionrunlog_dim/part-00000-33d047cd-38f0-44a2-9a2c-4c269a0243f0-c000 HTTP/1.1\"', httpstatus='200', errorcode='-', bytessent=None, objectsize=185, totaltime=10, turnaroundtime=None, referrer='\"-\"', useragent='\"Hadoop 2.6.0-cdh5.14.4, aws-sdk-java/1.11.134 Linux/3.10.0-862.51.1.el7.x86_64 Java_HotSpot(TM)_64-Bit_Server_VM/25.162-b12/1.8.0_162 scala/2.11.8\"', versionid='-', hostid='806deMa9zl4/JsWt2Z+XgfmdJGB+WmE7J3NbylXvSLooFc5nGuTHW8KldnE5HC1gZ14NmYIZZNw=', sigv='SigV4', ciphersuite='ECDHE-RSA-AES128-SHA', authtype='AuthHeader', endpoint='alpha2-prod.s3.us-east-1.amazonaws.com', tlsversion='TLSv1.2', requesturi_operation='\"HEAD', requesturi_key='/dmp/edh_fs_config/internal/compactionrunlog_dim/part-00000-33d047cd-38f0-44a2-9a2c-4c269a0243f0-c000', requesturi_httpprotoversion='HTTP/1.1\"', requesttimestamp=datetime.datetime(2020, 6, 13, 4, 57, 38)),\n",
       " Row(bucketowner='7409ed49bee6816819d2bd188ea9a867fa08ec38745cb08957f87f512ead10b6', bucket='alpha2-prod', requestdatetime='13/Jun/2020:04:02:44 +0000', remoteip='10.121.230.112', requester='arn:aws:iam::755270036439:user/CTSalpha2prodbucketuser', requestid='A558C5A8851C1A27', operation='REST.GET.OBJECT', key='dmp/rawcleansed/edh_mcoe_hana/aufk/partition%253D1/part-00191-42fd1b2d-9380-48b7-80ff-77f851fad9eb.c000', request='\"GET /dmp/rawcleansed/edh_mcoe_hana/aufk/partition%3D1/part-00191-42fd1b2d-9380-48b7-80ff-77f851fad9eb.c000 HTTP/1.1\"', httpstatus='206', errorcode='-', bytessent=102400, objectsize=5540126, totaltime=93, turnaroundtime=90, referrer='\"-\"', useragent='\"Hadoop 2.6.0-cdh5.14.4, aws-sdk-java/1.11.134 Linux/3.10.0-862.51.1.el7.x86_64 Java_HotSpot(TM)_64-Bit_Server_VM/25.162-b12/1.8.0_162\"', versionid='-', hostid='IiMpSJOWuJAL6aPCVOBuK6GhEIPdYavVrIuyxVHVQgpcioyiidUfdgPhPqOiERi696lBPkaQjyQ=', sigv='SigV4', ciphersuite='ECDHE-RSA-AES128-SHA', authtype='AuthHeader', endpoint='alpha2-prod.s3.us-east-1.amazonaws.com', tlsversion='TLSv1.2', requesturi_operation='\"GET', requesturi_key='/dmp/rawcleansed/edh_mcoe_hana/aufk/partition%3D1/part-00191-42fd1b2d-9380-48b7-80ff-77f851fad9eb.c000', requesturi_httpprotoversion='HTTP/1.1\"', requesttimestamp=datetime.datetime(2020, 6, 13, 4, 2, 44)),\n",
       " Row(bucketowner='7409ed49bee6816819d2bd188ea9a867fa08ec38745cb08957f87f512ead10b6', bucket='alpha2-prod', requestdatetime='13/Jun/2020:04:57:38 +0000', remoteip='10.121.232.241', requester='arn:aws:iam::755270036439:user/CTSalpha2prodbucketuser', requestid='E9E87B55F7C3E9F7', operation='REST.GET.OBJECT', key='dmp/edh_fs_config/internal/compactionrunlog_dim/part-00000-33bf7fb0-0aa8-4707-9d41-37ef3625e0ca-c000', request='\"GET /dmp/edh_fs_config/internal/compactionrunlog_dim/part-00000-33bf7fb0-0aa8-4707-9d41-37ef3625e0ca-c000 HTTP/1.1\"', httpstatus='206', errorcode='-', bytessent=188, objectsize=188, totaltime=17, turnaroundtime=16, referrer='\"-\"', useragent='\"Hadoop 2.6.0-cdh5.14.4, aws-sdk-java/1.11.134 Linux/3.10.0-862.51.1.el7.x86_64 Java_HotSpot(TM)_64-Bit_Server_VM/25.162-b12/1.8.0_162 scala/2.11.8\"', versionid='-', hostid='DPvaazmziN8YXX79fRaD4ehjXuiiVmSk9MAg8iQ2nVGX1j79OtQjIx/aMD+9pjFXGdKmXQGAXvc=', sigv='SigV4', ciphersuite='ECDHE-RSA-AES128-SHA', authtype='AuthHeader', endpoint='alpha2-prod.s3.us-east-1.amazonaws.com', tlsversion='TLSv1.2', requesturi_operation='\"GET', requesturi_key='/dmp/edh_fs_config/internal/compactionrunlog_dim/part-00000-33bf7fb0-0aa8-4707-9d41-37ef3625e0ca-c000', requesturi_httpprotoversion='HTTP/1.1\"', requesttimestamp=datetime.datetime(2020, 6, 13, 4, 57, 38)),\n",
       " Row(bucketowner='7409ed49bee6816819d2bd188ea9a867fa08ec38745cb08957f87f512ead10b6', bucket='alpha2-prod', requestdatetime='13/Jun/2020:04:02:44 +0000', remoteip='10.121.230.123', requester='arn:aws:iam::755270036439:user/CTSalpha2prodbucketuser', requestid='234D569DE2CAEC68', operation='REST.HEAD.OBJECT', key='dmp/rawcleansed/edh_mcoe_hana/jest/partition%253D2/part-00156-4445cec0-b2ec-4e42-90bf-cdcb370a5b08.c000', request='\"HEAD /dmp/rawcleansed/edh_mcoe_hana/jest/partition%3D2/part-00156-4445cec0-b2ec-4e42-90bf-cdcb370a5b08.c000 HTTP/1.1\"', httpstatus='200', errorcode='-', bytessent=None, objectsize=32560276, totaltime=9, turnaroundtime=None, referrer='\"-\"', useragent='\"Hadoop 2.6.0-cdh5.14.4, aws-sdk-java/1.11.134 Linux/3.10.0-862.51.1.el7.x86_64 Java_HotSpot(TM)_64-Bit_Server_VM/25.162-b12/1.8.0_162\"', versionid='-', hostid='DiMBMLI8sIpVni62M/C8YEcFslzxPW6A4Q06d49ImU7O1R78lQDJPJxdkcOx732WFuWSJP5wfMs=', sigv='SigV4', ciphersuite='ECDHE-RSA-AES128-SHA', authtype='AuthHeader', endpoint='alpha2-prod.s3.us-east-1.amazonaws.com', tlsversion='TLSv1.2', requesturi_operation='\"HEAD', requesturi_key='/dmp/rawcleansed/edh_mcoe_hana/jest/partition%3D2/part-00156-4445cec0-b2ec-4e42-90bf-cdcb370a5b08.c000', requesturi_httpprotoversion='HTTP/1.1\"', requesttimestamp=datetime.datetime(2020, 6, 13, 4, 2, 44)),\n",
       " Row(bucketowner='7409ed49bee6816819d2bd188ea9a867fa08ec38745cb08957f87f512ead10b6', bucket='alpha2-prod', requestdatetime='13/Jun/2020:04:57:38 +0000', remoteip='10.121.232.241', requester='arn:aws:iam::755270036439:user/CTSalpha2prodbucketuser', requestid='EB35C9B6720D350B', operation='REST.GET.OBJECT', key='dmp/edh_fs_config/internal/compactionrunlog_dim/part-00000-340b6030-1575-4c5e-b6da-2901fe70a323-c000', request='\"GET /dmp/edh_fs_config/internal/compactionrunlog_dim/part-00000-340b6030-1575-4c5e-b6da-2901fe70a323-c000 HTTP/1.1\"', httpstatus='206', errorcode='-', bytessent=181, objectsize=181, totaltime=20, turnaroundtime=19, referrer='\"-\"', useragent='\"Hadoop 2.6.0-cdh5.14.4, aws-sdk-java/1.11.134 Linux/3.10.0-862.51.1.el7.x86_64 Java_HotSpot(TM)_64-Bit_Server_VM/25.162-b12/1.8.0_162 scala/2.11.8\"', versionid='-', hostid='NQu7RcRq4n0YjaMpWv3U7zrLm32RNET5wq0D6Nu46IAp96txFh73CtZs+0dIDclPnUXZiInzQrA=', sigv='SigV4', ciphersuite='ECDHE-RSA-AES128-SHA', authtype='AuthHeader', endpoint='alpha2-prod.s3.us-east-1.amazonaws.com', tlsversion='TLSv1.2', requesturi_operation='\"GET', requesturi_key='/dmp/edh_fs_config/internal/compactionrunlog_dim/part-00000-340b6030-1575-4c5e-b6da-2901fe70a323-c000', requesturi_httpprotoversion='HTTP/1.1\"', requesttimestamp=datetime.datetime(2020, 6, 13, 4, 57, 38))]"
      ]
     },
     "execution_count": 168,
     "metadata": {},
     "output_type": "execute_result"
    }
   ],
   "source": [
    "txt.filter( col(\"key\").startswith(\"dmp\") ).take(10)"
   ]
  },
  {
   "cell_type": "code",
   "execution_count": 169,
   "metadata": {},
   "outputs": [],
   "source": [
    "txt2 = txt \\\n",
    "  .filter( col(\"key\").startswith(\"dmp\") ) \\\n",
    "  .select(\"requesttimestamp\", \"operation\", \"turnaroundtime\", \"totaltime\", \\\n",
    "                  \"objectsize\", \"bytessent\", getobject_udf(\"key\").alias(\"object\"), \\\n",
    "                  getprefix_udf(\"key\").alias(\"prefix\"))"
   ]
  },
  {
   "cell_type": "markdown",
   "metadata": {},
   "source": [
    "# Grouping by Time Windows\n",
    "\n",
    "we need to use table windowing functions in order to be able to calculate time based metrics"
   ]
  },
  {
   "cell_type": "code",
   "execution_count": 170,
   "metadata": {},
   "outputs": [
    {
     "data": {
      "text/plain": [
       "[Row(window=Row(start=datetime.datetime(2020, 6, 13, 4, 35), end=datetime.datetime(2020, 6, 13, 4, 40)), count=785786),\n",
       " Row(window=Row(start=datetime.datetime(2020, 6, 13, 4, 50), end=datetime.datetime(2020, 6, 13, 4, 55)), count=1429407),\n",
       " Row(window=Row(start=datetime.datetime(2020, 6, 13, 4, 40), end=datetime.datetime(2020, 6, 13, 4, 45)), count=993303)]"
      ]
     },
     "execution_count": 170,
     "metadata": {},
     "output_type": "execute_result"
    }
   ],
   "source": [
    "# 5 tumbling minute intervals\n",
    "txt2 \\\n",
    "  .groupBy(window(\"requesttimestamp\", \"5 minute\")) \\\n",
    "  .count().take(3)"
   ]
  },
  {
   "cell_type": "code",
   "execution_count": 171,
   "metadata": {},
   "outputs": [
    {
     "data": {
      "text/plain": [
       "[Row(prefix='dmp/rawcleansed/rc_aurizon_bma/internal/wheelbearingtemp_bogie_av/structured/wheelbearingtemp_bogie_av.parquet/.hive-staging_hive_2020-06-12_23-29-23_137_5376946569663904819-1/-ext-10000/_temporary/0/_temporary/attempt_20200612232933_0105_m_000004_0/part_key%253D2020164', window=Row(start=datetime.datetime(2020, 6, 13, 4, 26), end=datetime.datetime(2020, 6, 13, 4, 31)), count=6),\n",
       " Row(prefix='dmp/rawcleansed/rc_aurizon_bma/internal/wheelbearingtemp_train_av/structured/wheelbearingtemp_train_av.parquet/part_key%253D2020140', window=Row(start=datetime.datetime(2020, 6, 13, 4, 27), end=datetime.datetime(2020, 6, 13, 4, 32)), count=270),\n",
       " Row(prefix='dmp/rawcleansed/rc_blastlogic_crm/internal/hole_av/structured', window=Row(start=datetime.datetime(2020, 6, 13, 4, 59), end=datetime.datetime(2020, 6, 13, 5, 4)), count=10)]"
      ]
     },
     "execution_count": 171,
     "metadata": {},
     "output_type": "execute_result"
    }
   ],
   "source": [
    "# advanced windows - doesn't seem like we need for now\n",
    "from pyspark.sql import Window\n",
    "# this is a window spec and seems to only support explicitly specifying how many rows before \n",
    "# and after each you you want\n",
    "advanced_window = Window.partitionBy(\"prefix\").orderBy(\"requesttimestamp\")\n",
    "\n",
    "# tumbling windows\n",
    "txt2 \\\n",
    "  .repartition(\"prefix\") \\\n",
    "  .groupBy(\"prefix\", window(\"requesttimestamp\", windowDuration=\"5 minute\", slideDuration=\"1 minute\")) \\\n",
    "  .count().take(3)"
   ]
  },
  {
   "cell_type": "markdown",
   "metadata": {},
   "source": [
    "# Applying udafs to windows\n",
    "\n",
    "we will need to apply User Defined Analytical Functions to the sliding / tumbling windows that we will construct in order to analyse the data"
   ]
  },
  {
   "cell_type": "code",
   "execution_count": 128,
   "metadata": {},
   "outputs": [],
   "source": [
    "from scipy.stats import norm\n",
    "from pyspark.sql.types import FloatType, ArrayType, StructType, StructField\n",
    "from pyspark.sql.functions import col, collect_list, concat_ws, udf"
   ]
  },
  {
   "cell_type": "code",
   "execution_count": 195,
   "metadata": {},
   "outputs": [],
   "source": [
    "norm_dist_schema = StructType([\n",
    "    StructField(\"mean\", FloatType(), True),\n",
    "    StructField(\"std\", FloatType(), True)\n",
    "])\n",
    "\n",
    "import numpy as np\n",
    "def fit_norm_dist(s):\n",
    "    # flatten the numpy \n",
    "    number_np = np.array(s).flatten()\n",
    "    # run the fit and get the fit params\n",
    "    #try:\n",
    "    mean,std = norm.fit(np.array(number_np, dtype=float))\n",
    "    #except RuntimeError:\n",
    "    #    mean, std = 0,0\n",
    "        \n",
    "    return (float(mean), float(std))\n",
    "\n",
    "normfit_udf = udf(fit_norm_dist, norm_dist_schema)"
   ]
  },
  {
   "cell_type": "code",
   "execution_count": 196,
   "metadata": {},
   "outputs": [
    {
     "data": {
      "text/plain": [
       "(39.378, 78.70099564808567)"
      ]
     },
     "execution_count": 196,
     "metadata": {},
     "output_type": "execute_result"
    }
   ],
   "source": [
    "# test the base function\n",
    "ans = fit_norm_dist(txt2.select(\"totaltime\").filter(txt2.totaltime.isNotNull()).take(10000))\n",
    "ans"
   ]
  },
  {
   "cell_type": "code",
   "execution_count": 197,
   "metadata": {},
   "outputs": [
    {
     "data": {
      "text/plain": [
       "[Row(prefix='dmp/rawcleansed/edh_mcoe_hana/afko/partition%253D2', totaltime=11, normfit=Row(mean=11.0, std=0.0)),\n",
       " Row(prefix='dmp/edh_fs_config/internal/compactionrunlog_dim', totaltime=8, normfit=Row(mean=8.0, std=0.0)),\n",
       " Row(prefix='dmp/rawcleansed/edh_mcoe_hana/iflotx/partition%253D1', totaltime=18, normfit=Row(mean=18.0, std=0.0)),\n",
       " Row(prefix='dmp/edh_fs_config/internal/compactionrunlog_dim', totaltime=10, normfit=Row(mean=10.0, std=0.0)),\n",
       " Row(prefix='dmp/rawcleansed/edh_mcoe_hana/makt/partition%253D2', totaltime=50, normfit=Row(mean=50.0, std=0.0)),\n",
       " Row(prefix='dmp/edh_fs_config/internal/compactionrunlog_dim', totaltime=10, normfit=Row(mean=10.0, std=0.0)),\n",
       " Row(prefix='dmp/rawcleansed/edh_mcoe_hana/aufk/partition%253D1', totaltime=93, normfit=Row(mean=93.0, std=0.0)),\n",
       " Row(prefix='dmp/edh_fs_config/internal/compactionrunlog_dim', totaltime=17, normfit=Row(mean=17.0, std=0.0)),\n",
       " Row(prefix='dmp/rawcleansed/edh_mcoe_hana/jest/partition%253D2', totaltime=9, normfit=Row(mean=9.0, std=0.0)),\n",
       " Row(prefix='dmp/edh_fs_config/internal/compactionrunlog_dim', totaltime=20, normfit=Row(mean=20.0, std=0.0))]"
      ]
     },
     "execution_count": 197,
     "metadata": {},
     "output_type": "execute_result"
    }
   ],
   "source": [
    "txt2 \\\n",
    "  .select(\"prefix\", \"totaltime\", normfit_udf(\"totaltime\").alias(\"normfit\")) \\\n",
    "  .take(10)"
   ]
  },
  {
   "cell_type": "code",
   "execution_count": 198,
   "metadata": {},
   "outputs": [
    {
     "data": {
      "text/plain": [
       "[Row(window=Row(start=datetime.datetime(2020, 6, 13, 4, 35), end=datetime.datetime(2020, 6, 13, 4, 45)), tt=Row(mean=24.226726531982422, std=39.19658660888672)),\n",
       " Row(window=Row(start=datetime.datetime(2020, 6, 13, 4, 55), end=datetime.datetime(2020, 6, 13, 5, 5)), tt=Row(mean=23.87355613708496, std=42.65131759643555)),\n",
       " Row(window=Row(start=datetime.datetime(2020, 6, 13, 4, 20), end=datetime.datetime(2020, 6, 13, 4, 30)), tt=Row(mean=24.380699157714844, std=57.64756393432617)),\n",
       " Row(window=Row(start=datetime.datetime(2020, 6, 13, 4, 30), end=datetime.datetime(2020, 6, 13, 4, 40)), tt=Row(mean=24.036659240722656, std=39.62351608276367)),\n",
       " Row(window=Row(start=datetime.datetime(2020, 6, 13, 4, 5), end=datetime.datetime(2020, 6, 13, 4, 15)), tt=Row(mean=25.99616241455078, std=48.79657745361328)),\n",
       " Row(window=Row(start=datetime.datetime(2020, 6, 13, 4, 50), end=datetime.datetime(2020, 6, 13, 5, 0)), tt=Row(mean=24.014495849609375, std=43.13007354736328)),\n",
       " Row(window=Row(start=datetime.datetime(2020, 6, 13, 4, 10), end=datetime.datetime(2020, 6, 13, 4, 20)), tt=Row(mean=24.852930068969727, std=43.86077880859375)),\n",
       " Row(window=Row(start=datetime.datetime(2020, 6, 13, 4, 0), end=datetime.datetime(2020, 6, 13, 4, 10)), tt=Row(mean=27.16901206970215, std=57.670860290527344)),\n",
       " Row(window=Row(start=datetime.datetime(2020, 6, 13, 4, 40), end=datetime.datetime(2020, 6, 13, 4, 50)), tt=Row(mean=24.096166610717773, std=38.436614990234375)),\n",
       " Row(window=Row(start=datetime.datetime(2020, 6, 13, 4, 25), end=datetime.datetime(2020, 6, 13, 4, 35)), tt=Row(mean=23.845008850097656, std=35.62698745727539))]"
      ]
     },
     "execution_count": 198,
     "metadata": {},
     "output_type": "execute_result"
    }
   ],
   "source": [
    "# if we don't run take it works so it means that some prefixes and window combos are weird\n",
    "txt2 \\\n",
    "  .filter(txt2.totaltime.isNotNull()) \\\n",
    "  .groupBy(window(\"requesttimestamp\", windowDuration=\"10 minute\", slideDuration=\"5 minute\")) \\\n",
    "  .agg(collect_list(\"totaltime\").alias(\"tt\")) \\\n",
    "  .withColumn(\"tt\", normfit_udf(\"tt\").alias(\"normfit\")) \\\n",
    "  .take(10)"
   ]
  },
  {
   "cell_type": "markdown",
   "metadata": {},
   "source": [
    "## Next Actions\n",
    "- So given that we need to work with datasets that we cannot fit to RAM, how can we best run this job to get a \"definitive\" sample. - Probably don't need this Actually"
   ]
  }
 ],
 "metadata": {
  "kernelspec": {
   "display_name": "Python 3",
   "language": "python",
   "name": "python3"
  },
  "language_info": {
   "codemirror_mode": {
    "name": "ipython",
    "version": 3
   },
   "file_extension": ".py",
   "mimetype": "text/x-python",
   "name": "python",
   "nbconvert_exporter": "python",
   "pygments_lexer": "ipython3",
   "version": "3.8.6"
  }
 },
 "nbformat": 4,
 "nbformat_minor": 4
}
