{
 "cells": [
  {
   "cell_type": "markdown",
   "metadata": {},
   "source": [
    "# Getting Started with PySpark"
   ]
  },
  {
   "cell_type": "code",
   "execution_count": 1,
   "metadata": {},
   "outputs": [],
   "source": [
    "import pyspark\n",
    "from pyspark import SparkContext, SparkConf"
   ]
  },
  {
   "cell_type": "code",
   "execution_count": 2,
   "metadata": {},
   "outputs": [],
   "source": [
    "# set some spark conf\n",
    "spark_conf = SparkConf() \\\n",
    "    .setAppName(\"anomaly_modelling\") \\\n",
    "    .set(\"spark.driver.memory\", \"12g\") \\\n",
    "    .setMaster('local[*]')"
   ]
  },
  {
   "cell_type": "code",
   "execution_count": 3,
   "metadata": {},
   "outputs": [],
   "source": [
    "#sc.stop()"
   ]
  },
  {
   "cell_type": "code",
   "execution_count": 4,
   "metadata": {},
   "outputs": [],
   "source": [
    "sc = SparkContext(conf = spark_conf)"
   ]
  },
  {
   "cell_type": "code",
   "execution_count": 5,
   "metadata": {},
   "outputs": [],
   "source": [
    "# get our sparksession\n",
    "from pyspark.sql import SparkSession\n",
    "spark = SparkSession(sc).builder.getOrCreate()#.config(\"spark.driver.cores\", \"4\")"
   ]
  },
  {
   "cell_type": "code",
   "execution_count": 6,
   "metadata": {},
   "outputs": [
    {
     "data": {
      "text/plain": [
       "[('spark.app.name', 'anomaly_modelling'),\n",
       " ('spark.driver.memory', '12g'),\n",
       " ('spark.rdd.compress', 'True'),\n",
       " ('spark.driver.port', '34943'),\n",
       " ('spark.driver.host', '346169229b3a'),\n",
       " ('spark.serializer.objectStreamReset', '100'),\n",
       " ('spark.master', 'local[*]'),\n",
       " ('spark.submit.pyFiles', ''),\n",
       " ('spark.executor.id', 'driver'),\n",
       " ('spark.submit.deployMode', 'client'),\n",
       " ('spark.ui.showConsoleProgress', 'true'),\n",
       " ('spark.app.id', 'local-1604803385280')]"
      ]
     },
     "execution_count": 6,
     "metadata": {},
     "output_type": "execute_result"
    }
   ],
   "source": [
    "spark.sparkContext.getConf().getAll()"
   ]
  },
  {
   "cell_type": "markdown",
   "metadata": {},
   "source": [
    "## Load My Test file"
   ]
  },
  {
   "cell_type": "code",
   "execution_count": 7,
   "metadata": {},
   "outputs": [
    {
     "name": "stdout",
     "output_type": "stream",
     "text": [
      "13758561\n"
     ]
    }
   ],
   "source": [
    "txt = spark.read.parquet('data/*')\n",
    "print(txt.count())"
   ]
  },
  {
   "cell_type": "code",
   "execution_count": 8,
   "metadata": {},
   "outputs": [
    {
     "name": "stdout",
     "output_type": "stream",
     "text": [
      "+-------+------------+------------------+--------------------+\n",
      "|summary|         key|         totaltime|          objectsize|\n",
      "+-------+------------+------------------+--------------------+\n",
      "|  count|    13758561|          13638028|            12791918|\n",
      "|   mean|        null|27.549267460075605|  1516564.8832174346|\n",
      "| stddev|        null| 65.15363121886377|1.4335017325813163E7|\n",
      "|    min|           -|                 1|                   0|\n",
      "|    max|prefix/dummy|             29596|          2118650593|\n",
      "+-------+------------+------------------+--------------------+\n",
      "\n"
     ]
    }
   ],
   "source": [
    "txt.select(\"key\", \"totaltime\", \"objectsize\").describe().show()"
   ]
  },
  {
   "cell_type": "markdown",
   "metadata": {},
   "source": [
    "## Do Some Processing"
   ]
  },
  {
   "cell_type": "markdown",
   "metadata": {},
   "source": [
    "Some things that we will have to get comfortable with include:\n",
    "- Managing driver RAM\n",
    "- How to work with stuff that doesn't all fit in driver RAM / executor RAM\n",
    "- using Python libs in this situation"
   ]
  },
  {
   "cell_type": "code",
   "execution_count": 44,
   "metadata": {},
   "outputs": [],
   "source": [
    "import seaborn as sns\n",
    "%matplotlib inline"
   ]
  },
  {
   "cell_type": "code",
   "execution_count": 46,
   "metadata": {},
   "outputs": [],
   "source": [
    "from scipy.stats import beta"
   ]
  },
  {
   "cell_type": "code",
   "execution_count": 40,
   "metadata": {},
   "outputs": [],
   "source": [
    "totaltime_object = txt.select(\"totaltime\").take(500000)"
   ]
  },
  {
   "cell_type": "markdown",
   "metadata": {},
   "source": [
    "totaltime object is a DataFrame object which numpy and scipy cannot deal with so we need to convert it first. Taking the full object is also too big for us to fit into the driver RAM"
   ]
  },
  {
   "cell_type": "code",
   "execution_count": 48,
   "metadata": {},
   "outputs": [],
   "source": [
    "#sns.histplot(totaltime_object)"
   ]
  },
  {
   "cell_type": "code",
   "execution_count": 49,
   "metadata": {},
   "outputs": [],
   "source": [
    "import numpy as np "
   ]
  },
  {
   "cell_type": "code",
   "execution_count": 72,
   "metadata": {},
   "outputs": [
    {
     "data": {
      "text/plain": [
       "11"
      ]
     },
     "execution_count": 72,
     "metadata": {},
     "output_type": "execute_result"
    }
   ],
   "source": [
    "totaltime_np = np.array(totaltime_object).flatten()\n",
    "#totaltime_np = totaltime_np[~np.isnan(totaltime_np)]"
   ]
  },
  {
   "cell_type": "code",
   "execution_count": 73,
   "metadata": {},
   "outputs": [
    {
     "data": {
      "text/plain": [
       "array([11, 8, 18, 10, 50, 10, 93, 17, 9, 20], dtype=object)"
      ]
     },
     "execution_count": 73,
     "metadata": {},
     "output_type": "execute_result"
    }
   ],
   "source": [
    "totaltime_np[0:10]"
   ]
  },
  {
   "cell_type": "markdown",
   "metadata": {},
   "source": [
    "Note that we needed to convert to float in order fo the fitting to be done properly"
   ]
  },
  {
   "cell_type": "code",
   "execution_count": 76,
   "metadata": {},
   "outputs": [],
   "source": [
    "a1, b1, loc1, scale1 = beta.fit(np.array(totaltime_np[0:10], dtype=float))"
   ]
  },
  {
   "cell_type": "markdown",
   "metadata": {},
   "source": [
    "Now we can sample values"
   ]
  },
  {
   "cell_type": "code",
   "execution_count": 79,
   "metadata": {},
   "outputs": [],
   "source": [
    "r = beta.rvs(a1, b1, loc1, scale1, size=1000)"
   ]
  },
  {
   "cell_type": "markdown",
   "metadata": {},
   "source": [
    "lets check how this looks"
   ]
  },
  {
   "cell_type": "code",
   "execution_count": 80,
   "metadata": {},
   "outputs": [
    {
     "name": "stderr",
     "output_type": "stream",
     "text": [
      "/opt/conda/lib/python3.8/site-packages/seaborn/distributions.py:2551: FutureWarning: `distplot` is a deprecated function and will be removed in a future version. Please adapt your code to use either `displot` (a figure-level function with similar flexibility) or `histplot` (an axes-level function for histograms).\n",
      "  warnings.warn(msg, FutureWarning)\n"
     ]
    },
    {
     "data": {
      "text/plain": [
       "<AxesSubplot:ylabel='Density'>"
      ]
     },
     "execution_count": 80,
     "metadata": {},
     "output_type": "execute_result"
    },
    {
     "data": {
      "image/png": "[encoded data removed]",
      "text/plain": [
       "<Figure size 432x288 with 1 Axes>"
      ]
     },
     "metadata": {
      "needs_background": "light"
     },
     "output_type": "display_data"
    }
   ],
   "source": [
    "sns.distplot(r)"
   ]
  },
  {
   "cell_type": "markdown",
   "metadata": {},
   "source": [
    "# Extract the AWS Prefix\n",
    "\n",
    "we need to extract and analyse data by the AWS Prefix"
   ]
  },
  {
   "cell_type": "code",
   "execution_count": 49,
   "metadata": {},
   "outputs": [],
   "source": [
    "from pyspark.sql.functions import udf\n",
    "from pyspark.sql.types import StringType"
   ]
  },
  {
   "cell_type": "code",
   "execution_count": 70,
   "metadata": {},
   "outputs": [],
   "source": [
    "def get_object(s):\n",
    "    splitted = s.split(\"/\")\n",
    "    return splitted[-1]\n",
    "\n",
    "getobject_udf = udf(get_object, StringType())\n",
    "\n",
    "def get_prefix(s):\n",
    "    splitted = s.split(\"/\")\n",
    "    prefix = \"/\".join(splitted[0:-1])\n",
    "    return prefix\n",
    "\n",
    "getprefix_udf = udf(get_prefix, StringType())"
   ]
  },
  {
   "cell_type": "code",
   "execution_count": 81,
   "metadata": {},
   "outputs": [
    {
     "data": {
      "text/plain": [
       "[Row(key='dmp/rawcleansed/edh_mcoe_hana/afko/partition%253D2/part-00123-8a3ee488-8530-4fb8-8800-e2ea24335fb2.c000', object='part-00123-8a3ee488-8530-4fb8-8800-e2ea24335fb2.c000', prefix='dmp/rawcleansed/edh_mcoe_hana/afko/partition%253D2'),\n",
       " Row(key='dmp/edh_fs_config/internal/compactionrunlog_dim/part-00000-33c61448-c1cf-4618-aebf-26e88844d6e2-c000', object='part-00000-33c61448-c1cf-4618-aebf-26e88844d6e2-c000', prefix='dmp/edh_fs_config/internal/compactionrunlog_dim'),\n",
       " Row(key='dmp/rawcleansed/edh_mcoe_hana/iflotx/partition%253D1/part-00010-8640b6e7-2068-442e-84c3-5ae6b8f8adf8.c000', object='part-00010-8640b6e7-2068-442e-84c3-5ae6b8f8adf8.c000', prefix='dmp/rawcleansed/edh_mcoe_hana/iflotx/partition%253D1')]"
      ]
     },
     "execution_count": 81,
     "metadata": {},
     "output_type": "execute_result"
    }
   ],
   "source": [
    "txt.select(\"key\", getobject_udf(\"key\").alias(\"object\"), getprefix_udf(\"key\").alias(\"prefix\")).take(3)"
   ]
  },
  {
   "cell_type": "code",
   "execution_count": 82,
   "metadata": {},
   "outputs": [
    {
     "data": {
      "text/plain": [
       "['bucketowner',\n",
       " 'bucket',\n",
       " 'requestdatetime',\n",
       " 'remoteip',\n",
       " 'requester',\n",
       " 'requestid',\n",
       " 'operation',\n",
       " 'key',\n",
       " 'request',\n",
       " 'httpstatus',\n",
       " 'errorcode',\n",
       " 'bytessent',\n",
       " 'objectsize',\n",
       " 'totaltime',\n",
       " 'turnaroundtime',\n",
       " 'referrer',\n",
       " 'useragent',\n",
       " 'versionid',\n",
       " 'hostid',\n",
       " 'sigv',\n",
       " 'ciphersuite',\n",
       " 'authtype',\n",
       " 'endpoint',\n",
       " 'tlsversion',\n",
       " 'requesturi_operation',\n",
       " 'requesturi_key',\n",
       " 'requesturi_httpprotoversion',\n",
       " 'requesttimestamp']"
      ]
     },
     "execution_count": 82,
     "metadata": {},
     "output_type": "execute_result"
    }
   ],
   "source": [
    "txt.columns"
   ]
  },
  {
   "cell_type": "code",
   "execution_count": 83,
   "metadata": {},
   "outputs": [],
   "source": [
    "txt2 = txt.select(\"requesttimestamp\", \"operation\", \"turnaroundtime\", \"totaltime\", \\\n",
    "                  \"objectsize\", \"bytessent\", getobject_udf(\"key\").alias(\"object\"), \\\n",
    "                  getprefix_udf(\"key\").alias(\"prefix\"))"
   ]
  },
  {
   "cell_type": "markdown",
   "metadata": {},
   "source": [
    "# Grouping by Time Windows\n",
    "\n",
    "we need to use table windowing functions in order to be able to calculate time based metrics"
   ]
  },
  {
   "cell_type": "code",
   "execution_count": 84,
   "metadata": {},
   "outputs": [
    {
     "data": {
      "text/plain": [
       "[Row(window=Row(start=datetime.datetime(2020, 6, 13, 4, 35), end=datetime.datetime(2020, 6, 13, 4, 40)), count=805112),\n",
       " Row(window=Row(start=datetime.datetime(2020, 6, 13, 4, 50), end=datetime.datetime(2020, 6, 13, 4, 55)), count=1516816),\n",
       " Row(window=Row(start=datetime.datetime(2020, 6, 13, 4, 40), end=datetime.datetime(2020, 6, 13, 4, 45)), count=1010694)]"
      ]
     },
     "execution_count": 84,
     "metadata": {},
     "output_type": "execute_result"
    }
   ],
   "source": [
    "# 5 tumbling minute intervals\n",
    "txt2 \\\n",
    "  .groupBy(window(\"requesttimestamp\", \"5 minute\")) \\\n",
    "  .count().take(3)"
   ]
  },
  {
   "cell_type": "code",
   "execution_count": 88,
   "metadata": {},
   "outputs": [
    {
     "data": {
      "text/plain": [
       "[Row(prefix='dmp/rawcleansed/rc_aurizon_bma/internal/wheelbearingtemp_bogie_av/structured/wheelbearingtemp_bogie_av.parquet/.hive-staging_hive_2020-06-12_23-29-23_137_5376946569663904819-1/-ext-10000/_temporary/0/_temporary/attempt_20200612232933_0105_m_000004_0/part_key%253D2020164', window=Row(start=datetime.datetime(2020, 6, 13, 4, 26), end=datetime.datetime(2020, 6, 13, 4, 31)), count=6),\n",
       " Row(prefix='dmp/rawcleansed/rc_aurizon_bma/internal/wheelbearingtemp_train_av/structured/wheelbearingtemp_train_av.parquet/part_key%253D2020140', window=Row(start=datetime.datetime(2020, 6, 13, 4, 27), end=datetime.datetime(2020, 6, 13, 4, 32)), count=270),\n",
       " Row(prefix='dmp/rawcleansed/rc_blastlogic_crm/internal/hole_av/structured', window=Row(start=datetime.datetime(2020, 6, 13, 4, 59), end=datetime.datetime(2020, 6, 13, 5, 4)), count=10)]"
      ]
     },
     "execution_count": 88,
     "metadata": {},
     "output_type": "execute_result"
    }
   ],
   "source": [
    "# advanced windows - doesn't seem like we need for now\n",
    "from pyspark.sql import Window\n",
    "# this is a window spec and seems to only support explicitly specifying how many rows before \n",
    "# and after each you you want\n",
    "advanced_window = Window.partitionBy(\"prefix\").orderBy(\"requesttimestamp\")\n",
    "\n",
    "# tumbling windows\n",
    "txt2 \\\n",
    "  .repartition(\"prefix\") \\\n",
    "  .groupBy(\"prefix\", window(\"requesttimestamp\", windowDuration=\"5 minute\", slideDuration=\"1 minute\")) \\\n",
    "  .count().take(3)"
   ]
  },
  {
   "cell_type": "markdown",
   "metadata": {},
   "source": [
    "## Next Actions\n",
    "- So given that we need to work with datasets that we cannot fit to RAM, how can we best run this job to get a \"definitive\" sample. - Probably don't need this Actually"
   ]
  }
 ],
 "metadata": {
  "kernelspec": {
   "display_name": "Python 3",
   "language": "python",
   "name": "python3"
  },
  "language_info": {
   "codemirror_mode": {
    "name": "ipython",
    "version": 3
   },
   "file_extension": ".py",
   "mimetype": "text/x-python",
   "name": "python",
   "nbconvert_exporter": "python",
   "pygments_lexer": "ipython3",
   "version": "3.8.6"
  }
 },
 "nbformat": 4,
 "nbformat_minor": 4
}
